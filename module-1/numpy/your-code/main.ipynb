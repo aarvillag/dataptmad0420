{
 "cells": [
  {
   "cell_type": "markdown",
   "metadata": {},
   "source": [
    "# Introduction to NumPy\n",
    "\n",
    "\n",
    "#### 1. Import NumPy under the name np."
   ]
  },
  {
   "cell_type": "code",
   "execution_count": 1,
   "metadata": {},
   "outputs": [],
   "source": [
    "# your code here\n",
    "import numpy as np"
   ]
  },
  {
   "cell_type": "markdown",
   "metadata": {},
   "source": [
    "#### 2. Print your NumPy version."
   ]
  },
  {
   "cell_type": "code",
   "execution_count": 2,
   "metadata": {},
   "outputs": [
    {
     "name": "stdout",
     "output_type": "stream",
     "text": [
      "1.18.1\n"
     ]
    }
   ],
   "source": [
    "# your code here\n",
    "print((np.__version__))                        # we use atribute __version__\n"
   ]
  },
  {
   "cell_type": "markdown",
   "metadata": {},
   "source": [
    "#### 3. Generate a 2x3x5 3-dimensional array with random values. Assign the array to variable *a*.\n",
    "**Challenge**: there are at least three easy ways that use numpy to generate random arrays. How many ways can you find?"
   ]
  },
  {
   "cell_type": "code",
   "execution_count": 3,
   "metadata": {},
   "outputs": [
    {
     "name": "stdout",
     "output_type": "stream",
     "text": [
      "[[[0.59681866 0.01993307 0.31790105 0.20469622 0.57294473]\n",
      "  [0.49128725 0.21818968 0.3823108  0.95628779 0.9744673 ]\n",
      "  [0.09348577 0.4323299  0.27014938 0.57660456 0.5968292 ]]\n",
      "\n",
      " [[0.82727344 0.40348991 0.72809818 0.90742048 0.8303392 ]\n",
      "  [0.63841786 0.40918656 0.92446312 0.84146014 0.07077672]\n",
      "  [0.20247361 0.09988064 0.77323337 0.81353978 0.62699883]]]\n"
     ]
    }
   ],
   "source": [
    "# Method 1\n",
    "a1 = np.random.random((2,3,5))        # The easiest way for random numbers between 0 and 1 in an array\n",
    "print(a1)"
   ]
  },
  {
   "cell_type": "code",
   "execution_count": 4,
   "metadata": {},
   "outputs": [
    {
     "name": "stdout",
     "output_type": "stream",
     "text": [
      "[[[9 6 9 2 9]\n",
      "  [7 7 5 9 1]\n",
      "  [4 0 5 2 5]]\n",
      "\n",
      " [[9 5 0 5 6]\n",
      "  [4 0 4 9 3]\n",
      "  [2 5 2 6 1]]]\n"
     ]
    }
   ],
   "source": [
    "# Method 2\n",
    "\n",
    "a2 = np.random.randint(0,10,(2,3,5))        # This is a random with integers numbers in array between 0 and 9\n",
    "print(a2)"
   ]
  },
  {
   "cell_type": "code",
   "execution_count": 5,
   "metadata": {},
   "outputs": [
    {
     "name": "stdout",
     "output_type": "stream",
     "text": [
      "[[[-0.06958173  0.72015541  1.80420379 -1.7801226  -0.21190632]\n",
      "  [-0.29755329  0.08020306 -0.30252559 -0.30474779 -1.58804702]\n",
      "  [-0.81193021  0.7254398   0.33034002  0.28673858 -1.53692707]]\n",
      "\n",
      " [[ 3.01842219 -0.4528151  -0.17880487  0.98123936  0.21466073]\n",
      "  [-1.40823394  0.72938075 -0.64193846 -1.427372   -0.876617  ]\n",
      "  [-0.85453097 -1.25574789 -0.48409537 -0.65988972  0.51111192]]]\n"
     ]
    }
   ],
   "source": [
    "# Method 3\n",
    "a3=np.random.randn(2,3,5)                           # random with real numbers\n",
    "print(a3)"
   ]
  },
  {
   "cell_type": "code",
   "execution_count": 6,
   "metadata": {},
   "outputs": [
    {
     "name": "stdout",
     "output_type": "stream",
     "text": [
      "[[[8.1563301  9.39632983 1.1574473  9.77181992 9.06634699]\n",
      "  [5.89454936 4.171183   7.64735345 2.12534274 6.33313236]\n",
      "  [9.13467061 6.74893855 9.74214379 6.32319331 9.02321336]]\n",
      "\n",
      " [[7.57258169 9.93236261 8.48667169 2.93053066 4.97016823]\n",
      "  [3.94595959 9.38972718 3.84284276 4.33659046 1.66163574]\n",
      "  [4.87530646 5.71713107 9.96600961 9.57556031 3.11230506]]]\n"
     ]
    }
   ],
   "source": [
    "# Method 4\n",
    "a4=(10-1)*np.random.rand(2,3,5) + 1   ## This are a random array between 1 and 10\n",
    "print(a4)"
   ]
  },
  {
   "cell_type": "code",
   "execution_count": 7,
   "metadata": {},
   "outputs": [
    {
     "name": "stdout",
     "output_type": "stream",
     "text": [
      "[[[0.67312131 0.42859916 0.89136745 0.66970234 0.2337162 ]\n",
      "  [0.62434368 0.68556338 0.29534291 0.34619372 0.11871662]\n",
      "  [0.19059151 0.08796315 0.58137935 0.73841999 0.92117583]]\n",
      "\n",
      " [[0.78261246 0.8650864  0.81861015 0.73781493 0.78332394]\n",
      "  [0.18190463 0.58512471 0.5061677  0.46855641 0.7462935 ]\n",
      "  [0.15032028 0.29057975 0.02066018 0.16856468 0.70660922]]]\n"
     ]
    }
   ],
   "source": [
    "# Method 5                    # From a list of 30 random numbers\n",
    "a5=np.reshape([np.random.choice(x) for x in np.random.random((30,1))],(2,3,5))\n",
    "print(a5)"
   ]
  },
  {
   "cell_type": "markdown",
   "metadata": {},
   "source": [
    "#### 4. Print *a*.\n"
   ]
  },
  {
   "cell_type": "code",
   "execution_count": 8,
   "metadata": {},
   "outputs": [
    {
     "name": "stdout",
     "output_type": "stream",
     "text": [
      "[[[0.15956982 0.53370649 0.6027444  0.68589552 0.63425308]\n",
      "  [0.74675232 0.831644   0.33196993 0.87104931 0.37898729]\n",
      "  [0.59999345 0.95583286 0.33778371 0.80521392 0.32400114]]\n",
      "\n",
      " [[0.28620179 0.40107715 0.71559012 0.91543504 0.31307329]\n",
      "  [0.98102109 0.48977588 0.24339976 0.24438974 0.10880033]\n",
      "  [0.87790645 0.94610005 0.28819314 0.73232568 0.2313393 ]]]\n"
     ]
    }
   ],
   "source": [
    "# your code here\n",
    "a=np.random.random((2,3,5))\n",
    "print(a)"
   ]
  },
  {
   "cell_type": "markdown",
   "metadata": {},
   "source": [
    "#### 5. Create a 5x2x3 3-dimensional array with all values equaling 1. Assign the array to variable *b*."
   ]
  },
  {
   "cell_type": "code",
   "execution_count": 9,
   "metadata": {},
   "outputs": [],
   "source": [
    "# your code here\n",
    "b=np.ones((5,2,3))\n"
   ]
  },
  {
   "cell_type": "markdown",
   "metadata": {},
   "source": [
    "#### 6. Print *b*.\n"
   ]
  },
  {
   "cell_type": "code",
   "execution_count": 10,
   "metadata": {},
   "outputs": [
    {
     "name": "stdout",
     "output_type": "stream",
     "text": [
      "[[[1. 1. 1.]\n",
      "  [1. 1. 1.]]\n",
      "\n",
      " [[1. 1. 1.]\n",
      "  [1. 1. 1.]]\n",
      "\n",
      " [[1. 1. 1.]\n",
      "  [1. 1. 1.]]\n",
      "\n",
      " [[1. 1. 1.]\n",
      "  [1. 1. 1.]]\n",
      "\n",
      " [[1. 1. 1.]\n",
      "  [1. 1. 1.]]]\n"
     ]
    }
   ],
   "source": [
    "# your code here\n",
    "print(b)\n"
   ]
  },
  {
   "cell_type": "markdown",
   "metadata": {},
   "source": [
    "#### 7. Do *a* and *b* have the same size? How do you prove that in Python code?"
   ]
  },
  {
   "cell_type": "code",
   "execution_count": 11,
   "metadata": {},
   "outputs": [
    {
     "name": "stdout",
     "output_type": "stream",
     "text": [
      "Is the size of a (30) the same of size b (30) ? =>  True\n"
     ]
    }
   ],
   "source": [
    "# your code here\n",
    "size_a=a.size\n",
    "size_b=b.size\n",
    "print(f'Is the size of a ({size_a}) the same of size b ({size_b}) ? => ', size_a==size_b)"
   ]
  },
  {
   "cell_type": "markdown",
   "metadata": {},
   "source": [
    "#### 8. Are you able to add *a* and *b*? Why or why not?\n"
   ]
  },
  {
   "cell_type": "code",
   "execution_count": 13,
   "metadata": {},
   "outputs": [
    {
     "ename": "ValueError",
     "evalue": "operands could not be broadcast together with shapes (2,3,5) (5,2,3) ",
     "output_type": "error",
     "traceback": [
      "\u001b[0;31m---------------------------------------------------------------------------\u001b[0m",
      "\u001b[0;31mValueError\u001b[0m                                Traceback (most recent call last)",
      "\u001b[0;32m<ipython-input-13-b8eb0a043080>\u001b[0m in \u001b[0;36m<module>\u001b[0;34m\u001b[0m\n\u001b[1;32m      1\u001b[0m \u001b[0;31m# your answer here\u001b[0m\u001b[0;34m\u001b[0m\u001b[0;34m\u001b[0m\u001b[0;34m\u001b[0m\u001b[0m\n\u001b[0;32m----> 2\u001b[0;31m \u001b[0ma\u001b[0m\u001b[0;34m+\u001b[0m\u001b[0mb\u001b[0m\u001b[0;34m\u001b[0m\u001b[0;34m\u001b[0m\u001b[0m\n\u001b[0m\u001b[1;32m      3\u001b[0m \u001b[0;31m# It is not possible to add a+b because the dimensions of both arrays are different (2,3,5) and (5,2,3)\u001b[0m\u001b[0;34m\u001b[0m\u001b[0;34m\u001b[0m\u001b[0;34m\u001b[0m\u001b[0m\n",
      "\u001b[0;31mValueError\u001b[0m: operands could not be broadcast together with shapes (2,3,5) (5,2,3) "
     ]
    }
   ],
   "source": [
    "# your answer here\n",
    "a+b\n",
    "# It is not possible to add a+b because the dimensions of both arrays are different (2,3,5) and (5,2,3)"
   ]
  },
  {
   "cell_type": "markdown",
   "metadata": {},
   "source": [
    "#### 9. Transpose *b* so that it has the same structure of *a* (i.e. become a 2x3x5 array). Assign the transposed array to variable *c*."
   ]
  },
  {
   "cell_type": "code",
   "execution_count": 14,
   "metadata": {},
   "outputs": [
    {
     "name": "stdout",
     "output_type": "stream",
     "text": [
      "[[[1. 1. 1. 1. 1.]\n",
      "  [1. 1. 1. 1. 1.]]\n",
      "\n",
      " [[1. 1. 1. 1. 1.]\n",
      "  [1. 1. 1. 1. 1.]]\n",
      "\n",
      " [[1. 1. 1. 1. 1.]\n",
      "  [1. 1. 1. 1. 1.]]]\n"
     ]
    },
    {
     "data": {
      "text/plain": [
       "(3, 2, 5)"
      ]
     },
     "execution_count": 14,
     "metadata": {},
     "output_type": "execute_result"
    }
   ],
   "source": [
    "# your code here\n",
    "c=b.T                     # If you transpose array b, you get an array with shape (3,2,5) and not (2,3,5)\n",
    "print(c)\n",
    "c.shape"
   ]
  },
  {
   "cell_type": "markdown",
   "metadata": {},
   "source": [
    "#### 10. Try to add *a* and *c*. Now it should work. Assign the sum to variable *d*. But why does it work now?"
   ]
  },
  {
   "cell_type": "code",
   "execution_count": 16,
   "metadata": {},
   "outputs": [
    {
     "name": "stdout",
     "output_type": "stream",
     "text": [
      "[[[1. 1. 1. 1. 1.]\n",
      "  [1. 1. 1. 1. 1.]\n",
      "  [1. 1. 1. 1. 1.]]\n",
      "\n",
      " [[1. 1. 1. 1. 1.]\n",
      "  [1. 1. 1. 1. 1.]\n",
      "  [1. 1. 1. 1. 1.]]]\n"
     ]
    }
   ],
   "source": [
    "# your code/answer here\n",
    "#=>> a+c <<=  # This sum also doesn't work because the shape of arrays are different (2,3,5) and (3,2,5)\n",
    "c=np.reshape(b,(2,3,5)) # To get an array with same shape of a array we can do a reshape of b.\n",
    "print(c)\n",
    "d=a+c    # This sum now works because both arrays have the same shape"
   ]
  },
  {
   "cell_type": "markdown",
   "metadata": {},
   "source": [
    "#### 11. Print *a* and *d*. Notice the difference and relation of the two array in terms of the values? Explain."
   ]
  },
  {
   "cell_type": "code",
   "execution_count": 17,
   "metadata": {},
   "outputs": [
    {
     "name": "stdout",
     "output_type": "stream",
     "text": [
      "[[[0.15956982 0.53370649 0.6027444  0.68589552 0.63425308]\n",
      "  [0.74675232 0.831644   0.33196993 0.87104931 0.37898729]\n",
      "  [0.59999345 0.95583286 0.33778371 0.80521392 0.32400114]]\n",
      "\n",
      " [[0.28620179 0.40107715 0.71559012 0.91543504 0.31307329]\n",
      "  [0.98102109 0.48977588 0.24339976 0.24438974 0.10880033]\n",
      "  [0.87790645 0.94610005 0.28819314 0.73232568 0.2313393 ]]]\n",
      "[[[1.15956982 1.53370649 1.6027444  1.68589552 1.63425308]\n",
      "  [1.74675232 1.831644   1.33196993 1.87104931 1.37898729]\n",
      "  [1.59999345 1.95583286 1.33778371 1.80521392 1.32400114]]\n",
      "\n",
      " [[1.28620179 1.40107715 1.71559012 1.91543504 1.31307329]\n",
      "  [1.98102109 1.48977588 1.24339976 1.24438974 1.10880033]\n",
      "  [1.87790645 1.94610005 1.28819314 1.73232568 1.2313393 ]]]\n"
     ]
    }
   ],
   "source": [
    "# your code/answer here\n",
    "print(a)\n",
    "print(d) # Each element of d is the correspond element of a plus 1."
   ]
  },
  {
   "cell_type": "markdown",
   "metadata": {},
   "source": [
    "#### 12. Multiply *a* and *c*. Assign the result to *e*."
   ]
  },
  {
   "cell_type": "code",
   "execution_count": 18,
   "metadata": {},
   "outputs": [
    {
     "data": {
      "text/plain": [
       "array([[[0.15956982, 0.53370649, 0.6027444 , 0.68589552, 0.63425308],\n",
       "        [0.74675232, 0.831644  , 0.33196993, 0.87104931, 0.37898729],\n",
       "        [0.59999345, 0.95583286, 0.33778371, 0.80521392, 0.32400114]],\n",
       "\n",
       "       [[0.28620179, 0.40107715, 0.71559012, 0.91543504, 0.31307329],\n",
       "        [0.98102109, 0.48977588, 0.24339976, 0.24438974, 0.10880033],\n",
       "        [0.87790645, 0.94610005, 0.28819314, 0.73232568, 0.2313393 ]]])"
      ]
     },
     "execution_count": 18,
     "metadata": {},
     "output_type": "execute_result"
    }
   ],
   "source": [
    "# your code here\n",
    "e=a*c\n",
    "e"
   ]
  },
  {
   "cell_type": "markdown",
   "metadata": {},
   "source": [
    "#### 13. Does *e* equal to *a*? Why or why not?\n"
   ]
  },
  {
   "cell_type": "code",
   "execution_count": 19,
   "metadata": {},
   "outputs": [
    {
     "name": "stdout",
     "output_type": "stream",
     "text": [
      "Does e array equal to a array? =>  True\n"
     ]
    }
   ],
   "source": [
    "# your code/answer here\n",
    "   # The e array is equal to a array, because each element of e array is correspond element o a array multiply by 1\n",
    "print(f'Does e array equal to a array? => ', np.array_equal(a,e))"
   ]
  },
  {
   "cell_type": "markdown",
   "metadata": {},
   "source": [
    "#### 14. Identify the max, min, and mean values in *d*. Assign those values to variables *d_max*, *d_min* and *d_mean*."
   ]
  },
  {
   "cell_type": "code",
   "execution_count": 20,
   "metadata": {},
   "outputs": [
    {
     "name": "stdout",
     "output_type": "stream",
     "text": [
      "[[[1.15956982 1.53370649 1.6027444  1.68589552 1.63425308]\n",
      "  [1.74675232 1.831644   1.33196993 1.87104931 1.37898729]\n",
      "  [1.59999345 1.95583286 1.33778371 1.80521392 1.32400114]]\n",
      "\n",
      " [[1.28620179 1.40107715 1.71559012 1.91543504 1.31307329]\n",
      "  [1.98102109 1.48977588 1.24339976 1.24438974 1.10880033]\n",
      "  [1.87790645 1.94610005 1.28819314 1.73232568 1.2313393 ]]]\n",
      "max=1.9810210863995117 min=1.1088003259915555 mean=1.552467535234834\n"
     ]
    }
   ],
   "source": [
    "# your code here\n",
    "d_mean=np.mean(d)\n",
    "d_max=np.max(d)\n",
    "d_min=np.min(d)\n",
    "print(d)\n",
    "print(f'max={d_max} min={d_min} mean={d_mean}')"
   ]
  },
  {
   "cell_type": "markdown",
   "metadata": {},
   "source": [
    "#### 15. Now we want to label the values in *d*. First create an empty array *f* with the same shape (i.e. 2x3x5) as *d* using `np.empty`.\n"
   ]
  },
  {
   "cell_type": "code",
   "execution_count": 21,
   "metadata": {},
   "outputs": [
    {
     "name": "stdout",
     "output_type": "stream",
     "text": [
      "[[[1.15956982 1.53370649 1.6027444  1.68589552 1.63425308]\n",
      "  [1.74675232 1.831644   1.33196993 1.87104931 1.37898729]\n",
      "  [1.59999345 1.95583286 1.33778371 1.80521392 1.32400114]]\n",
      "\n",
      " [[1.28620179 1.40107715 1.71559012 1.91543504 1.31307329]\n",
      "  [1.98102109 1.48977588 1.24339976 1.24438974 1.10880033]\n",
      "  [1.87790645 1.94610005 1.28819314 1.73232568 1.2313393 ]]]\n"
     ]
    }
   ],
   "source": [
    "# your code here\n",
    "f=np.empty_like(d)\n",
    "print(f)"
   ]
  },
  {
   "cell_type": "markdown",
   "metadata": {},
   "source": [
    "#### 16. Populate the values in *f*. \n",
    "\n",
    "For each value in *d*, if it's larger than *d_min* but smaller than *d_mean*, assign 25 to the corresponding value in *f*. If a value in *d* is larger than *d_mean* but smaller than *d_max*, assign 75 to the corresponding value in *f*. If a value equals to *d_mean*, assign 50 to the corresponding value in *f*. Assign 0 to the corresponding value(s) in *f* for *d_min* in *d*. Assign 100 to the corresponding value(s) in *f* for *d_max* in *d*. In the end, f should have only the following values: 0, 25, 50, 75, and 100.\n",
    "\n",
    "**Note**: you don't have to use Numpy in this question."
   ]
  },
  {
   "cell_type": "code",
   "execution_count": 22,
   "metadata": {},
   "outputs": [
    {
     "name": "stdout",
     "output_type": "stream",
     "text": [
      "[[[1.15956982 1.53370649 1.6027444  1.68589552 1.63425308]\n",
      "  [1.74675232 1.831644   1.33196993 1.87104931 1.37898729]\n",
      "  [1.59999345 1.95583286 1.33778371 1.80521392 1.32400114]]\n",
      "\n",
      " [[1.28620179 1.40107715 1.71559012 1.91543504 1.31307329]\n",
      "  [1.98102109 1.48977588 1.24339976 1.24438974 1.10880033]\n",
      "  [1.87790645 1.94610005 1.28819314 1.73232568 1.2313393 ]]]\n",
      "[[[ 25.  25.  75.  75.  75.]\n",
      "  [ 75.  75.  25.  75.  25.]\n",
      "  [ 75.  75.  25.  75.  25.]]\n",
      "\n",
      " [[ 25.  25.  75.  75.  25.]\n",
      "  [100.  25.  25.  25.   0.]\n",
      "  [ 75.  75.  25.  75.  25.]]]\n"
     ]
    }
   ],
   "source": [
    "# your code here\n",
    "print(d)\n",
    "\n",
    "for x in range (2):\n",
    "    for y in range(3):\n",
    "        for z in range(5):\n",
    "            if (d[x][y][z]> d_min and d[x][y][z]< d_mean):\n",
    "                f[x][y][z]=25\n",
    "            elif (d[x][y][z]< d_max and d[x][y][z]> d_mean):\n",
    "                f[x][y][z]=75\n",
    "            elif d[x][y][z]== d_mean:\n",
    "                f[x][y][z]=50\n",
    "            elif d[x][y][z]== d_max:\n",
    "                f[x][y][z]=100\n",
    "            elif d[x][y][z]== d_min:\n",
    "                f[x][y][z]=0\n",
    "\n",
    "print(f)"
   ]
  },
  {
   "cell_type": "markdown",
   "metadata": {},
   "source": [
    "#### 17. Print *d* and *f*. Do you have your expected *f*?\n",
    "For instance, if your *d* is:\n",
    "```python\n",
    "[[[1.85836099, 1.67064465, 1.62576044, 1.40243961, 1.88454931],\n",
    "[1.75354326, 1.69403643, 1.36729252, 1.61415071, 1.12104981],\n",
    "[1.72201435, 1.1862918 , 1.87078449, 1.7726778 , 1.88180042]],\n",
    "[[1.44747908, 1.31673383, 1.02000951, 1.52218947, 1.97066381],\n",
    "[1.79129243, 1.74983003, 1.96028037, 1.85166831, 1.65450881],\n",
    "[1.18068344, 1.9587381 , 1.00656599, 1.93402165, 1.73514584]]]\n",
    "```\n",
    "Your *f* should be:\n",
    "```python\n",
    "[[[ 75.,  75.,  75.,  25.,  75.],\n",
    "[ 75.,  75.,  25.,  25.,  25.],\n",
    "[ 75.,  25.,  75.,  75.,  75.]],\n",
    "[[ 25.,  25.,  25.,  25., 100.],\n",
    "[ 75.,  75.,  75.,  75.,  75.],\n",
    "[ 25.,  75.,   0.,  75.,  75.]]]\n",
    "```"
   ]
  },
  {
   "cell_type": "code",
   "execution_count": 23,
   "metadata": {},
   "outputs": [
    {
     "name": "stdout",
     "output_type": "stream",
     "text": [
      "[[[1.15956982 1.53370649 1.6027444  1.68589552 1.63425308]\n",
      "  [1.74675232 1.831644   1.33196993 1.87104931 1.37898729]\n",
      "  [1.59999345 1.95583286 1.33778371 1.80521392 1.32400114]]\n",
      "\n",
      " [[1.28620179 1.40107715 1.71559012 1.91543504 1.31307329]\n",
      "  [1.98102109 1.48977588 1.24339976 1.24438974 1.10880033]\n",
      "  [1.87790645 1.94610005 1.28819314 1.73232568 1.2313393 ]]]\n",
      "[[[ 25.  25.  75.  75.  75.]\n",
      "  [ 75.  75.  25.  75.  25.]\n",
      "  [ 75.  75.  25.  75.  25.]]\n",
      "\n",
      " [[ 25.  25.  75.  75.  25.]\n",
      "  [100.  25.  25.  25.   0.]\n",
      "  [ 75.  75.  25.  75.  25.]]]\n"
     ]
    }
   ],
   "source": [
    "# your code here\n",
    "print(d)\n",
    "print(f)"
   ]
  },
  {
   "cell_type": "markdown",
   "metadata": {},
   "source": [
    "#### 18. Bonus question: instead of using numbers (i.e. 0, 25, 50, 75, and 100), use string values  (\"A\", \"B\", \"C\", \"D\", and \"E\") to label the array elements. For the example above, the expected result is:\n",
    "\n",
    "```python\n",
    "[[[ 'D',  'D',  'D',  'B',  'D'],\n",
    "[ 'D',  'D',  'B',  'B',  'B'],\n",
    "[ 'D',  'B',  'D',  'D',  'D']],\n",
    "[[ 'B',  'B',  'B',  'B',  'E'],\n",
    "[ 'D',  'D',  'D',  'D',  'D'],\n",
    "[ 'B',  'D',   'A',  'D', 'D']]]\n",
    "```\n",
    "**Note**: you don't have to use Numpy in this question."
   ]
  },
  {
   "cell_type": "code",
   "execution_count": 24,
   "metadata": {},
   "outputs": [
    {
     "name": "stdout",
     "output_type": "stream",
     "text": [
      "[[[1.15956982 1.53370649 1.6027444  1.68589552 1.63425308]\n",
      "  [1.74675232 1.831644   1.33196993 1.87104931 1.37898729]\n",
      "  [1.59999345 1.95583286 1.33778371 1.80521392 1.32400114]]\n",
      "\n",
      " [[1.28620179 1.40107715 1.71559012 1.91543504 1.31307329]\n",
      "  [1.98102109 1.48977588 1.24339976 1.24438974 1.10880033]\n",
      "  [1.87790645 1.94610005 1.28819314 1.73232568 1.2313393 ]]]\n",
      "[[['B' 'B' 'D' 'D' 'D']\n",
      "  ['D' 'D' 'B' 'D' 'B']\n",
      "  ['D' 'D' 'B' 'D' 'B']]\n",
      "\n",
      " [['B' 'B' 'D' 'D' 'B']\n",
      "  ['E' 'B' 'B' 'B' 'A']\n",
      "  ['D' 'D' 'B' 'D' 'B']]]\n"
     ]
    }
   ],
   "source": [
    "# your code here\n",
    "print(d)\n",
    "f=np.empty(d.shape,dtype='object')   # create a new array pattern for f with data type as string to avoid errors\n",
    "\n",
    "for x in range (2):\n",
    "    for y in range(3):\n",
    "        for z in range(5):\n",
    "            if (d[x][y][z]> d_min and d[x][y][z]< d_mean):\n",
    "                f[x][y][z]='B'\n",
    "            elif (d[x][y][z]< d_max and d[x][y][z]> d_mean):\n",
    "                f[x][y][z]='D'\n",
    "            elif d[x][y][z]== d_mean:\n",
    "                f[x][y][z]='C'\n",
    "            elif d[x][y][z]== d_max:\n",
    "                f[x][y][z]='E'\n",
    "            elif d[x][y][z]== d_min:\n",
    "                f[x][y][z]='A'\n",
    "\n",
    "print(f)"
   ]
  }
 ],
 "metadata": {
  "kernelspec": {
   "display_name": "Python 3",
   "language": "python",
   "name": "python3"
  },
  "language_info": {
   "codemirror_mode": {
    "name": "ipython",
    "version": 3
   },
   "file_extension": ".py",
   "mimetype": "text/x-python",
   "name": "python",
   "nbconvert_exporter": "python",
   "pygments_lexer": "ipython3",
   "version": "3.7.7"
  }
 },
 "nbformat": 4,
 "nbformat_minor": 4
}
