{
 "cells": [
  {
   "cell_type": "markdown",
   "metadata": {},
   "source": [
    "# Introduction to NumPy\n",
    "\n",
    "\n",
    "#### 1. Import NumPy under the name np."
   ]
  },
  {
   "cell_type": "code",
   "execution_count": 4,
   "metadata": {},
   "outputs": [],
   "source": [
    "# your code here\n",
    "import numpy as np"
   ]
  },
  {
   "cell_type": "markdown",
   "metadata": {},
   "source": [
    "#### 2. Print your NumPy version."
   ]
  },
  {
   "cell_type": "code",
   "execution_count": 5,
   "metadata": {},
   "outputs": [
    {
     "name": "stdout",
     "output_type": "stream",
     "text": [
      "1.18.1\n"
     ]
    }
   ],
   "source": [
    "# your code here\n",
    "print((np.__version__))                        # we use atribute __version__\n"
   ]
  },
  {
   "cell_type": "markdown",
   "metadata": {},
   "source": [
    "#### 3. Generate a 2x3x5 3-dimensional array with random values. Assign the array to variable *a*.\n",
    "**Challenge**: there are at least three easy ways that use numpy to generate random arrays. How many ways can you find?"
   ]
  },
  {
   "cell_type": "code",
   "execution_count": 6,
   "metadata": {},
   "outputs": [
    {
     "name": "stdout",
     "output_type": "stream",
     "text": [
      "[[[0.26153456 0.40253041 0.4194276  0.47997848 0.38253765]\n",
      "  [0.1368703  0.81813101 0.15690463 0.9646997  0.08085413]\n",
      "  [0.03380308 0.29103219 0.37509703 0.03477868 0.44754431]]\n",
      "\n",
      " [[0.81953422 0.099306   0.06493103 0.32564229 0.18424231]\n",
      "  [0.94256296 0.39035416 0.54748145 0.2956745  0.53511135]\n",
      "  [0.75007081 0.08651783 0.94645081 0.82777823 0.78139971]]]\n"
     ]
    }
   ],
   "source": [
    "# Method 1\n",
    "a1 = np.random.random((2,3,5))        # The easiest way for random numbers between 0 and 1 in an array\n",
    "print(a1)"
   ]
  },
  {
   "cell_type": "code",
   "execution_count": 7,
   "metadata": {},
   "outputs": [
    {
     "name": "stdout",
     "output_type": "stream",
     "text": [
      "[[[1 1 2 1 1]\n",
      "  [1 8 7 1 6]\n",
      "  [4 5 2 6 9]]\n",
      "\n",
      " [[2 1 0 0 8]\n",
      "  [5 5 6 7 3]\n",
      "  [7 2 5 0 4]]]\n"
     ]
    }
   ],
   "source": [
    "# Method 2\n",
    "\n",
    "a2 = np.random.randint(0,10,(2,3,5))        # This is a random with integers numbers in array between 0 and 9\n",
    "print(a2)"
   ]
  },
  {
   "cell_type": "code",
   "execution_count": 8,
   "metadata": {},
   "outputs": [
    {
     "name": "stdout",
     "output_type": "stream",
     "text": [
      "[[[ 0.69642395  0.64002964 -0.64893574 -0.13926308 -0.86272669]\n",
      "  [ 1.43795194  1.84047012 -0.64187212 -1.54591361  1.38022171]\n",
      "  [ 1.7485917   0.67323267 -0.38824809  0.45727955  0.06729568]]\n",
      "\n",
      " [[ 0.97640954  0.0810441   0.73470941 -1.53398936  0.14136018]\n",
      "  [-0.02294689 -1.97146793 -0.66476361 -0.14711032  0.06127221]\n",
      "  [-0.35035096  0.42789212 -0.01760926  0.31430052  0.72084375]]]\n"
     ]
    }
   ],
   "source": [
    "# Method 3\n",
    "a3=np.random.randn(2,3,5)                           # random with real numbers\n",
    "print(a3)"
   ]
  },
  {
   "cell_type": "code",
   "execution_count": 9,
   "metadata": {},
   "outputs": [
    {
     "name": "stdout",
     "output_type": "stream",
     "text": [
      "[[[5.46433387 5.61189379 7.6317567  2.3255175  4.8343378 ]\n",
      "  [2.25849395 6.95542494 5.01449228 7.85248931 9.86534206]\n",
      "  [4.81303583 6.07373213 7.24034592 4.30585781 5.18697109]]\n",
      "\n",
      " [[9.99236731 4.48985764 7.34484956 8.54644921 2.07501373]\n",
      "  [4.32232107 3.72626684 8.9042208  3.32926242 7.08629781]\n",
      "  [4.53737252 6.95818926 2.70872321 1.03371359 1.84380887]]]\n"
     ]
    }
   ],
   "source": [
    "# Method 4\n",
    "a4=(10-1)*np.random.rand(2,3,5) + 1   ## This are a random array between 1 and 10\n",
    "print(a4)"
   ]
  },
  {
   "cell_type": "code",
   "execution_count": 10,
   "metadata": {},
   "outputs": [
    {
     "name": "stdout",
     "output_type": "stream",
     "text": [
      "[[[0.14778435 0.75081733 0.84243748 0.8003459  0.5863914 ]\n",
      "  [0.10967169 0.55697696 0.33297973 0.48816214 0.94354375]\n",
      "  [0.43972867 0.00449299 0.27878655 0.31017114 0.97398274]]\n",
      "\n",
      " [[0.02710864 0.53328508 0.1881613  0.45342863 0.08879724]\n",
      "  [0.45814043 0.57881275 0.63732552 0.4628058  0.72517053]\n",
      "  [0.95378471 0.03344735 0.93880582 0.51930381 0.94200404]]]\n"
     ]
    }
   ],
   "source": [
    "# Method 5                    # From a list of 30 random numbers\n",
    "a5=np.reshape([np.random.choice(x) for x in np.random.random((30,1))],(2,3,5))\n",
    "print(a5)"
   ]
  },
  {
   "cell_type": "markdown",
   "metadata": {},
   "source": [
    "#### 4. Print *a*.\n"
   ]
  },
  {
   "cell_type": "code",
   "execution_count": 11,
   "metadata": {},
   "outputs": [
    {
     "name": "stdout",
     "output_type": "stream",
     "text": [
      "[[[0.31691227 0.6020775  0.65936819 0.87368338 0.51035804]\n",
      "  [0.0903947  0.60862679 0.175014   0.33070284 0.58801598]\n",
      "  [0.41892626 0.6480461  0.6517817  0.87258078 0.44670598]]\n",
      "\n",
      " [[0.49601464 0.35481241 0.4029047  0.11112621 0.08644512]\n",
      "  [0.63870538 0.69713469 0.68452803 0.20691036 0.31527184]\n",
      "  [0.52317873 0.49222384 0.47491489 0.42273781 0.05692027]]]\n"
     ]
    }
   ],
   "source": [
    "# your code here\n",
    "a=np.random.random((2,3,5))\n",
    "print(a)"
   ]
  },
  {
   "cell_type": "markdown",
   "metadata": {},
   "source": [
    "#### 5. Create a 5x2x3 3-dimensional array with all values equaling 1. Assign the array to variable *b*."
   ]
  },
  {
   "cell_type": "code",
   "execution_count": 12,
   "metadata": {},
   "outputs": [],
   "source": [
    "# your code here\n",
    "b=np.ones((5,2,3))\n"
   ]
  },
  {
   "cell_type": "markdown",
   "metadata": {},
   "source": [
    "#### 6. Print *b*.\n"
   ]
  },
  {
   "cell_type": "code",
   "execution_count": 13,
   "metadata": {},
   "outputs": [
    {
     "name": "stdout",
     "output_type": "stream",
     "text": [
      "[[[1. 1. 1.]\n",
      "  [1. 1. 1.]]\n",
      "\n",
      " [[1. 1. 1.]\n",
      "  [1. 1. 1.]]\n",
      "\n",
      " [[1. 1. 1.]\n",
      "  [1. 1. 1.]]\n",
      "\n",
      " [[1. 1. 1.]\n",
      "  [1. 1. 1.]]\n",
      "\n",
      " [[1. 1. 1.]\n",
      "  [1. 1. 1.]]]\n"
     ]
    }
   ],
   "source": [
    "# your code here\n",
    "print(b)\n"
   ]
  },
  {
   "cell_type": "markdown",
   "metadata": {},
   "source": [
    "#### 7. Do *a* and *b* have the same size? How do you prove that in Python code?"
   ]
  },
  {
   "cell_type": "code",
   "execution_count": 22,
   "metadata": {},
   "outputs": [
    {
     "name": "stdout",
     "output_type": "stream",
     "text": [
      "Is the size of a (30) the same of size b (30) ? =>  True\n"
     ]
    }
   ],
   "source": [
    "# your code here\n",
    "size_a=a.size\n",
    "size_b=b.size\n",
    "print(f'Is the size of a ({size_a}) the same of size b ({size_b}) ? => ', size_a==size_b)"
   ]
  },
  {
   "cell_type": "markdown",
   "metadata": {},
   "source": [
    "#### 8. Are you able to add *a* and *b*? Why or why not?\n"
   ]
  },
  {
   "cell_type": "code",
   "execution_count": 23,
   "metadata": {},
   "outputs": [
    {
     "ename": "ValueError",
     "evalue": "operands could not be broadcast together with shapes (2,3,5) (5,2,3) ",
     "output_type": "error",
     "traceback": [
      "\u001b[0;31m---------------------------------------------------------------------------\u001b[0m",
      "\u001b[0;31mValueError\u001b[0m                                Traceback (most recent call last)",
      "\u001b[0;32m<ipython-input-23-f54bdd812bd2>\u001b[0m in \u001b[0;36m<module>\u001b[0;34m\u001b[0m\n\u001b[1;32m      1\u001b[0m \u001b[0;31m# your answer here\u001b[0m\u001b[0;34m\u001b[0m\u001b[0;34m\u001b[0m\u001b[0;34m\u001b[0m\u001b[0m\n\u001b[0;32m----> 2\u001b[0;31m \u001b[0ma\u001b[0m\u001b[0;34m+\u001b[0m\u001b[0mb\u001b[0m\u001b[0;34m\u001b[0m\u001b[0;34m\u001b[0m\u001b[0m\n\u001b[0m",
      "\u001b[0;31mValueError\u001b[0m: operands could not be broadcast together with shapes (2,3,5) (5,2,3) "
     ]
    }
   ],
   "source": [
    "# your answer here\n",
    "a+b\n",
    "# It is not possible to add a+b because the dimensions of both arrays are different (2,3,5) and (5,3,2)"
   ]
  },
  {
   "cell_type": "markdown",
   "metadata": {},
   "source": [
    "#### 9. Transpose *b* so that it has the same structure of *a* (i.e. become a 2x3x5 array). Assign the transposed array to variable *c*."
   ]
  },
  {
   "cell_type": "code",
   "execution_count": 33,
   "metadata": {},
   "outputs": [
    {
     "name": "stdout",
     "output_type": "stream",
     "text": [
      "[[[1. 1. 1. 1. 1.]\n",
      "  [1. 1. 1. 1. 1.]\n",
      "  [1. 1. 1. 1. 1.]]\n",
      "\n",
      " [[1. 1. 1. 1. 1.]\n",
      "  [1. 1. 1. 1. 1.]\n",
      "  [1. 1. 1. 1. 1.]]]\n"
     ]
    },
    {
     "data": {
      "text/plain": [
       "(2, 3, 5)"
      ]
     },
     "execution_count": 33,
     "metadata": {},
     "output_type": "execute_result"
    }
   ],
   "source": [
    "# your code here\n",
    "c=b.T                     # If you transpose array b, you get an array with shape (3,2,5)\n",
    "print(c)\n",
    "c.shape"
   ]
  },
  {
   "cell_type": "markdown",
   "metadata": {},
   "source": [
    "#### 10. Try to add *a* and *c*. Now it should work. Assign the sum to variable *d*. But why does it work now?"
   ]
  },
  {
   "cell_type": "code",
   "execution_count": 36,
   "metadata": {},
   "outputs": [
    {
     "name": "stdout",
     "output_type": "stream",
     "text": [
      "[[[1. 1. 1. 1. 1.]\n",
      "  [1. 1. 1. 1. 1.]\n",
      "  [1. 1. 1. 1. 1.]]\n",
      "\n",
      " [[1. 1. 1. 1. 1.]\n",
      "  [1. 1. 1. 1. 1.]\n",
      "  [1. 1. 1. 1. 1.]]]\n"
     ]
    }
   ],
   "source": [
    "# your code/answer here\n",
    "a+c    # This sum also doesn't work because the shape are different (2,3,5) and (3,2,5)\n",
    "c=np.reshape(b,(2,3,5)) # To get an array with same shape of a array we can do a reshape of b.\n",
    "print(c)\n",
    "d=a+c    # This sum now works because both arrays have the same shape"
   ]
  },
  {
   "cell_type": "markdown",
   "metadata": {},
   "source": [
    "#### 11. Print *a* and *d*. Notice the difference and relation of the two array in terms of the values? Explain."
   ]
  },
  {
   "cell_type": "code",
   "execution_count": 37,
   "metadata": {},
   "outputs": [
    {
     "name": "stdout",
     "output_type": "stream",
     "text": [
      "[[[0.31691227 0.6020775  0.65936819 0.87368338 0.51035804]\n",
      "  [0.0903947  0.60862679 0.175014   0.33070284 0.58801598]\n",
      "  [0.41892626 0.6480461  0.6517817  0.87258078 0.44670598]]\n",
      "\n",
      " [[0.49601464 0.35481241 0.4029047  0.11112621 0.08644512]\n",
      "  [0.63870538 0.69713469 0.68452803 0.20691036 0.31527184]\n",
      "  [0.52317873 0.49222384 0.47491489 0.42273781 0.05692027]]]\n",
      "[[[1.31691227 1.6020775  1.65936819 1.87368338 1.51035804]\n",
      "  [1.0903947  1.60862679 1.175014   1.33070284 1.58801598]\n",
      "  [1.41892626 1.6480461  1.6517817  1.87258078 1.44670598]]\n",
      "\n",
      " [[1.49601464 1.35481241 1.4029047  1.11112621 1.08644512]\n",
      "  [1.63870538 1.69713469 1.68452803 1.20691036 1.31527184]\n",
      "  [1.52317873 1.49222384 1.47491489 1.42273781 1.05692027]]]\n"
     ]
    }
   ],
   "source": [
    "# your code/answer here\n",
    "print(a)\n",
    "print(d) # Each element of d is the correspond element of a plus 1."
   ]
  },
  {
   "cell_type": "markdown",
   "metadata": {},
   "source": [
    "#### 12. Multiply *a* and *c*. Assign the result to *e*."
   ]
  },
  {
   "cell_type": "code",
   "execution_count": 47,
   "metadata": {},
   "outputs": [
    {
     "data": {
      "text/plain": [
       "array([[[0.31691227, 0.6020775 , 0.65936819, 0.87368338, 0.51035804],\n",
       "        [0.0903947 , 0.60862679, 0.175014  , 0.33070284, 0.58801598],\n",
       "        [0.41892626, 0.6480461 , 0.6517817 , 0.87258078, 0.44670598]],\n",
       "\n",
       "       [[0.49601464, 0.35481241, 0.4029047 , 0.11112621, 0.08644512],\n",
       "        [0.63870538, 0.69713469, 0.68452803, 0.20691036, 0.31527184],\n",
       "        [0.52317873, 0.49222384, 0.47491489, 0.42273781, 0.05692027]]])"
      ]
     },
     "execution_count": 47,
     "metadata": {},
     "output_type": "execute_result"
    }
   ],
   "source": [
    "# your code here\n",
    "e=a*c\n",
    "e"
   ]
  },
  {
   "cell_type": "markdown",
   "metadata": {},
   "source": [
    "#### 13. Does *e* equal to *a*? Why or why not?\n"
   ]
  },
  {
   "cell_type": "code",
   "execution_count": 59,
   "metadata": {},
   "outputs": [
    {
     "name": "stdout",
     "output_type": "stream",
     "text": [
      "Does e array equal to a array? =>  True\n"
     ]
    }
   ],
   "source": [
    "# your code/answer here\n",
    "   # The e array is equal to a array, because each element of e array is correspond element o a array multiply by 1\n",
    "print(f'Does e array equal to a array? => ', np.array_equal(a,e))"
   ]
  },
  {
   "cell_type": "markdown",
   "metadata": {},
   "source": [
    "#### 14. Identify the max, min, and mean values in *d*. Assign those values to variables *d_max*, *d_min* and *d_mean*."
   ]
  },
  {
   "cell_type": "code",
   "execution_count": 64,
   "metadata": {},
   "outputs": [
    {
     "name": "stdout",
     "output_type": "stream",
     "text": [
      "[[[1.31691227 1.6020775  1.65936819 1.87368338 1.51035804]\n",
      "  [1.0903947  1.60862679 1.175014   1.33070284 1.58801598]\n",
      "  [1.41892626 1.6480461  1.6517817  1.87258078 1.44670598]]\n",
      "\n",
      " [[1.49601464 1.35481241 1.4029047  1.11112621 1.08644512]\n",
      "  [1.63870538 1.69713469 1.68452803 1.20691036 1.31527184]\n",
      "  [1.52317873 1.49222384 1.47491489 1.42273781 1.05692027]]]\n",
      "max=1.8736833759553595 min=1.0569202748229616 mean=1.4585674465353342\n"
     ]
    }
   ],
   "source": [
    "# your code here\n",
    "d_mean=np.mean(d)\n",
    "d_max=np.max(d)\n",
    "d_min=np.min(d)\n",
    "print(d)\n",
    "print(f'max={d_max} min={d_min} mean={d_mean}')"
   ]
  },
  {
   "cell_type": "markdown",
   "metadata": {},
   "source": [
    "#### 15. Now we want to label the values in *d*. First create an empty array *f* with the same shape (i.e. 2x3x5) as *d* using `np.empty`.\n"
   ]
  },
  {
   "cell_type": "code",
   "execution_count": 68,
   "metadata": {},
   "outputs": [
    {
     "name": "stdout",
     "output_type": "stream",
     "text": [
      "[[[1.31691227 1.6020775  1.65936819 1.87368338 1.51035804]\n",
      "  [1.0903947  1.60862679 1.175014   1.33070284 1.58801598]\n",
      "  [1.41892626 1.6480461  1.6517817  1.87258078 1.44670598]]\n",
      "\n",
      " [[1.49601464 1.35481241 1.4029047  1.11112621 1.08644512]\n",
      "  [1.63870538 1.69713469 1.68452803 1.20691036 1.31527184]\n",
      "  [1.52317873 1.49222384 1.47491489 1.42273781 1.05692027]]]\n"
     ]
    }
   ],
   "source": [
    "# your code here\n",
    "f=np.empty_like(d)\n",
    "print(f)"
   ]
  },
  {
   "cell_type": "markdown",
   "metadata": {},
   "source": [
    "#### 16. Populate the values in *f*. \n",
    "\n",
    "For each value in *d*, if it's larger than *d_min* but smaller than *d_mean*, assign 25 to the corresponding value in *f*. If a value in *d* is larger than *d_mean* but smaller than *d_max*, assign 75 to the corresponding value in *f*. If a value equals to *d_mean*, assign 50 to the corresponding value in *f*. Assign 0 to the corresponding value(s) in *f* for *d_min* in *d*. Assign 100 to the corresponding value(s) in *f* for *d_max* in *d*. In the end, f should have only the following values: 0, 25, 50, 75, and 100.\n",
    "\n",
    "**Note**: you don't have to use Numpy in this question."
   ]
  },
  {
   "cell_type": "code",
   "execution_count": 72,
   "metadata": {},
   "outputs": [
    {
     "name": "stdout",
     "output_type": "stream",
     "text": [
      "[[[1.31691227 1.6020775  1.65936819 1.87368338 1.51035804]\n",
      "  [1.0903947  1.60862679 1.175014   1.33070284 1.58801598]\n",
      "  [1.41892626 1.6480461  1.6517817  1.87258078 1.44670598]]\n",
      "\n",
      " [[1.49601464 1.35481241 1.4029047  1.11112621 1.08644512]\n",
      "  [1.63870538 1.69713469 1.68452803 1.20691036 1.31527184]\n",
      "  [1.52317873 1.49222384 1.47491489 1.42273781 1.05692027]]]\n",
      "[[[ 25.  75.  75. 100.  75.]\n",
      "  [ 25.  75.  25.  25.  75.]\n",
      "  [ 25.  75.  75.  75.  25.]]\n",
      "\n",
      " [[ 75.  25.  25.  25.  25.]\n",
      "  [ 75.  75.  75.  25.  25.]\n",
      "  [ 75.  75.  75.  25.   0.]]]\n"
     ]
    }
   ],
   "source": [
    "# your code here\n",
    "print(d)\n",
    "\n",
    "for x in range (2):\n",
    "    for y in range(3):\n",
    "        for z in range(5):\n",
    "            if (d[x][y][z]> d_min and d[x][y][z]< d_mean):\n",
    "                f[x][y][z]=25\n",
    "            elif (d[x][y][z]< d_max and d[x][y][z]> d_mean):\n",
    "                f[x][y][z]=75\n",
    "            elif d[x][y][z]== d_mean:\n",
    "                f[x][y][z]=50\n",
    "            elif d[x][y][z]== d_max:\n",
    "                f[x][y][z]=100\n",
    "            elif d[x][y][z]== d_min:\n",
    "                f[x][y][z]=0\n",
    "\n",
    "print(f)"
   ]
  },
  {
   "cell_type": "markdown",
   "metadata": {},
   "source": [
    "#### 17. Print *d* and *f*. Do you have your expected *f*?\n",
    "For instance, if your *d* is:\n",
    "```python\n",
    "[[[1.85836099, 1.67064465, 1.62576044, 1.40243961, 1.88454931],\n",
    "[1.75354326, 1.69403643, 1.36729252, 1.61415071, 1.12104981],\n",
    "[1.72201435, 1.1862918 , 1.87078449, 1.7726778 , 1.88180042]],\n",
    "[[1.44747908, 1.31673383, 1.02000951, 1.52218947, 1.97066381],\n",
    "[1.79129243, 1.74983003, 1.96028037, 1.85166831, 1.65450881],\n",
    "[1.18068344, 1.9587381 , 1.00656599, 1.93402165, 1.73514584]]]\n",
    "```\n",
    "Your *f* should be:\n",
    "```python\n",
    "[[[ 75.,  75.,  75.,  25.,  75.],\n",
    "[ 75.,  75.,  25.,  25.,  25.],\n",
    "[ 75.,  25.,  75.,  75.,  75.]],\n",
    "[[ 25.,  25.,  25.,  25., 100.],\n",
    "[ 75.,  75.,  75.,  75.,  75.],\n",
    "[ 25.,  75.,   0.,  75.,  75.]]]\n",
    "```"
   ]
  },
  {
   "cell_type": "code",
   "execution_count": 73,
   "metadata": {},
   "outputs": [
    {
     "name": "stdout",
     "output_type": "stream",
     "text": [
      "[[[1.31691227 1.6020775  1.65936819 1.87368338 1.51035804]\n",
      "  [1.0903947  1.60862679 1.175014   1.33070284 1.58801598]\n",
      "  [1.41892626 1.6480461  1.6517817  1.87258078 1.44670598]]\n",
      "\n",
      " [[1.49601464 1.35481241 1.4029047  1.11112621 1.08644512]\n",
      "  [1.63870538 1.69713469 1.68452803 1.20691036 1.31527184]\n",
      "  [1.52317873 1.49222384 1.47491489 1.42273781 1.05692027]]]\n",
      "[[[ 25.  75.  75. 100.  75.]\n",
      "  [ 25.  75.  25.  25.  75.]\n",
      "  [ 25.  75.  75.  75.  25.]]\n",
      "\n",
      " [[ 75.  25.  25.  25.  25.]\n",
      "  [ 75.  75.  75.  25.  25.]\n",
      "  [ 75.  75.  75.  25.   0.]]]\n"
     ]
    }
   ],
   "source": [
    "# your code here\n",
    "print(d)\n",
    "print(f)"
   ]
  },
  {
   "cell_type": "markdown",
   "metadata": {},
   "source": [
    "#### 18. Bonus question: instead of using numbers (i.e. 0, 25, 50, 75, and 100), use string values  (\"A\", \"B\", \"C\", \"D\", and \"E\") to label the array elements. For the example above, the expected result is:\n",
    "\n",
    "```python\n",
    "[[[ 'D',  'D',  'D',  'B',  'D'],\n",
    "[ 'D',  'D',  'B',  'B',  'B'],\n",
    "[ 'D',  'B',  'D',  'D',  'D']],\n",
    "[[ 'B',  'B',  'B',  'B',  'E'],\n",
    "[ 'D',  'D',  'D',  'D',  'D'],\n",
    "[ 'B',  'D',   'A',  'D', 'D']]]\n",
    "```\n",
    "**Note**: you don't have to use Numpy in this question."
   ]
  },
  {
   "cell_type": "code",
   "execution_count": 76,
   "metadata": {},
   "outputs": [
    {
     "name": "stdout",
     "output_type": "stream",
     "text": [
      "[[[1.31691227 1.6020775  1.65936819 1.87368338 1.51035804]\n",
      "  [1.0903947  1.60862679 1.175014   1.33070284 1.58801598]\n",
      "  [1.41892626 1.6480461  1.6517817  1.87258078 1.44670598]]\n",
      "\n",
      " [[1.49601464 1.35481241 1.4029047  1.11112621 1.08644512]\n",
      "  [1.63870538 1.69713469 1.68452803 1.20691036 1.31527184]\n",
      "  [1.52317873 1.49222384 1.47491489 1.42273781 1.05692027]]]\n",
      "[[['B' 'D' 'D' 'E' 'D']\n",
      "  ['B' 'D' 'B' 'B' 'D']\n",
      "  ['B' 'D' 'D' 'D' 'B']]\n",
      "\n",
      " [['D' 'B' 'B' 'B' 'B']\n",
      "  ['D' 'D' 'D' 'B' 'B']\n",
      "  ['D' 'D' 'D' 'B' 'A']]]\n"
     ]
    }
   ],
   "source": [
    "# your code here\n",
    "print(d)\n",
    "f=np.empty(d.shape,dtype='object')   # create a new array pattern for f with data type as string to avoid errors\n",
    "\n",
    "for x in range (2):\n",
    "    for y in range(3):\n",
    "        for z in range(5):\n",
    "            if (d[x][y][z]> d_min and d[x][y][z]< d_mean):\n",
    "                f[x][y][z]='B'\n",
    "            elif (d[x][y][z]< d_max and d[x][y][z]> d_mean):\n",
    "                f[x][y][z]='D'\n",
    "            elif d[x][y][z]== d_mean:\n",
    "                f[x][y][z]='C'\n",
    "            elif d[x][y][z]== d_max:\n",
    "                f[x][y][z]='E'\n",
    "            elif d[x][y][z]== d_min:\n",
    "                f[x][y][z]='A'\n",
    "\n",
    "print(f)"
   ]
  }
 ],
 "metadata": {
  "kernelspec": {
   "display_name": "Python 3",
   "language": "python",
   "name": "python3"
  },
  "language_info": {
   "codemirror_mode": {
    "name": "ipython",
    "version": 3
   },
   "file_extension": ".py",
   "mimetype": "text/x-python",
   "name": "python",
   "nbconvert_exporter": "python",
   "pygments_lexer": "ipython3",
   "version": "3.7.7"
  }
 },
 "nbformat": 4,
 "nbformat_minor": 4
}
