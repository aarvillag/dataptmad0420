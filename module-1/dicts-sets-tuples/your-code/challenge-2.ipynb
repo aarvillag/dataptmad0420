{
 "cells": [
  {
   "cell_type": "markdown",
   "metadata": {},
   "source": [
    "## Challenge 2: Sets\n",
    "\n",
    "There are a lot to learn about Python Sets and the information presented in the lesson is limited due to its length. To learn Python Sets in depth you are strongly encouraged to review the W3Schools tutorial on [Python Sets Examples and Methods](https://www.w3schools.com/python/python_sets.asp) before you work on this lab. Some difficult questions in this lab have their solutions in the W3Schools tutorial.\n",
    "\n",
    "#### First, import the Python `random` library."
   ]
  },
  {
   "cell_type": "code",
   "execution_count": 1,
   "metadata": {},
   "outputs": [],
   "source": [
    "import random"
   ]
  },
  {
   "cell_type": "markdown",
   "metadata": {},
   "source": [
    "#### In the cell below, create a list named `sample_list_1` with 80 random values. \n",
    "\n",
    "Requirements:\n",
    "\n",
    "* Each value is an integer falling between 0 and 100.\n",
    "* Each value in the list is unique.\n",
    "\n",
    "Print `sample_list_1` to review its values\n",
    "\n",
    "*Hint: use `random.sample` ([reference](https://docs.python.org/3/library/random.html#random.sample)).*"
   ]
  },
  {
   "cell_type": "code",
   "execution_count": 2,
   "metadata": {},
   "outputs": [
    {
     "name": "stdout",
     "output_type": "stream",
     "text": [
      "[55, 15, 82, 10, 65, 8, 58, 96, 57, 19, 3, 69, 47, 66, 25, 61, 37, 62, 98, 67, 88, 63, 50, 70, 16, 33, 39, 43, 38, 87, 48, 100, 21, 6, 64, 20, 78, 46, 60, 13, 94, 76, 86, 22, 68, 72, 89, 80, 2, 28, 45, 7, 95, 99, 71, 18, 14, 5, 24, 32, 91, 11, 4, 54, 97, 83, 49, 0, 12, 56, 85, 27, 59, 41, 74, 26, 31, 77, 79, 73]\n"
     ]
    }
   ],
   "source": [
    "# Your code here\n",
    "sample_list_1=random.sample(range(101),80)\n",
    "print(sample_list_1)"
   ]
  },
  {
   "cell_type": "markdown",
   "metadata": {},
   "source": [
    "#### Convert `sample_list_1` to a set called `set1`. Print the length of the set. Is its length still 80?"
   ]
  },
  {
   "cell_type": "code",
   "execution_count": 3,
   "metadata": {},
   "outputs": [
    {
     "name": "stdout",
     "output_type": "stream",
     "text": [
      "{0, 2, 3, 4, 5, 6, 7, 8, 10, 11, 12, 13, 14, 15, 16, 18, 19, 20, 21, 22, 24, 25, 26, 27, 28, 31, 32, 33, 37, 38, 39, 41, 43, 45, 46, 47, 48, 49, 50, 54, 55, 56, 57, 58, 59, 60, 61, 62, 63, 64, 65, 66, 67, 68, 69, 70, 71, 72, 73, 74, 76, 77, 78, 79, 80, 82, 83, 85, 86, 87, 88, 89, 91, 94, 95, 96, 97, 98, 99, 100}\n",
      "80\n"
     ]
    }
   ],
   "source": [
    "# Your code here\n",
    "set1=set(sample_list_1)\n",
    "print(set1)\n",
    "print(len(set1))                                      # Yes, the lenght is 80"
   ]
  },
  {
   "cell_type": "markdown",
   "metadata": {},
   "source": [
    "#### Create another list named `sample_list_2` with 80 random values.\n",
    "\n",
    "Requirements:\n",
    "\n",
    "* Each value is an integer falling between 0 and 100.\n",
    "* The values in the list don't have to be unique.\n",
    "\n",
    "*Hint: Use a FOR loop.*"
   ]
  },
  {
   "cell_type": "code",
   "execution_count": 4,
   "metadata": {},
   "outputs": [
    {
     "name": "stdout",
     "output_type": "stream",
     "text": [
      "[0, 6, 28, 33, 60, 98, 83, 8, 69, 55, 3, 96, 92, 33, 87, 37, 99, 69, 36, 36, 61, 47, 67, 10, 48, 22, 41, 74, 51, 14, 92, 7, 9, 73, 18, 59, 15, 10, 31, 89, 5, 84, 38, 19, 78, 17, 61, 64, 58, 8, 74, 34, 54, 31, 50, 87, 42, 3, 20, 78, 15, 3, 83, 85, 39, 18, 83, 75, 77, 31, 27, 30, 35, 21, 39, 36, 26, 92, 49, 91]\n"
     ]
    }
   ],
   "source": [
    "# Your code here\n",
    "\n",
    "sample_list_2=[random.sample(range(101),1)[0] for i in range(80) ]\n",
    "\n",
    "print(sample_list_2)"
   ]
  },
  {
   "cell_type": "markdown",
   "metadata": {},
   "source": [
    "#### Convert `sample_list_2` to a set called `set2`. Print the length of the set. Is its length still 80?"
   ]
  },
  {
   "cell_type": "code",
   "execution_count": 5,
   "metadata": {},
   "outputs": [
    {
     "name": "stdout",
     "output_type": "stream",
     "text": [
      "{0, 3, 5, 6, 7, 8, 9, 10, 14, 15, 17, 18, 19, 20, 21, 22, 26, 27, 28, 30, 31, 33, 34, 35, 36, 37, 38, 39, 41, 42, 47, 48, 49, 50, 51, 54, 55, 58, 59, 60, 61, 64, 67, 69, 73, 74, 75, 77, 78, 83, 84, 85, 87, 89, 91, 92, 96, 98, 99}\n",
      "59\n"
     ]
    }
   ],
   "source": [
    "# Your code here\n",
    "\n",
    "set2=set(sample_list_2)\n",
    "\n",
    "print(set2)\n",
    "print(len(set2))      # Now the length of the set2 is not 80 because duplicates are deleted."
   ]
  },
  {
   "cell_type": "markdown",
   "metadata": {},
   "source": [
    "#### Identify the elements present in `set1` but not in `set2`. Assign the elements to a new set named `set3`."
   ]
  },
  {
   "cell_type": "code",
   "execution_count": 6,
   "metadata": {},
   "outputs": [
    {
     "name": "stdout",
     "output_type": "stream",
     "text": [
      "{2, 4, 11, 12, 13, 16, 24, 25, 32, 43, 45, 46, 56, 57, 62, 63, 65, 66, 68, 70, 71, 72, 76, 79, 80, 82, 86, 88, 94, 95, 97, 100}\n"
     ]
    }
   ],
   "source": [
    "# Your code here\n",
    "set3=set([i for i in set1 if i not in set2])\n",
    "print(set3)"
   ]
  },
  {
   "cell_type": "markdown",
   "metadata": {},
   "source": [
    "#### Identify the elements present in `set2` but not in `set1`. Assign the elements to a new set named `set4`."
   ]
  },
  {
   "cell_type": "code",
   "execution_count": 7,
   "metadata": {},
   "outputs": [
    {
     "name": "stdout",
     "output_type": "stream",
     "text": [
      "{34, 35, 36, 9, 42, 75, 17, 51, 84, 92, 30}\n"
     ]
    }
   ],
   "source": [
    "# Your code here\n",
    "set4=set([i for i in set2 if i not in set1])\n",
    "print(set4)"
   ]
  },
  {
   "cell_type": "markdown",
   "metadata": {},
   "source": [
    "#### Now Identify the elements shared between `set1` and `set2`. Assign the elements to a new set named `set5`."
   ]
  },
  {
   "cell_type": "code",
   "execution_count": 8,
   "metadata": {},
   "outputs": [
    {
     "name": "stdout",
     "output_type": "stream",
     "text": [
      "{0, 3, 5, 6, 7, 8, 10, 14, 15, 18, 19, 20, 21, 22, 26, 27, 28, 31, 33, 37, 38, 39, 41, 47, 48, 49, 50, 54, 55, 58, 59, 60, 61, 64, 67, 69, 73, 74, 77, 78, 83, 85, 87, 89, 91, 96, 98, 99}\n"
     ]
    }
   ],
   "source": [
    "# Your code here\n",
    "set5=set([i for i in set1 if i in set2])\n",
    "print(set5)"
   ]
  },
  {
   "cell_type": "markdown",
   "metadata": {},
   "source": [
    "#### What is the relationship among the following values:\n",
    "\n",
    "* len(set1)\n",
    "* len(set2)\n",
    "* len(set3)\n",
    "* len(set4)\n",
    "* len(set5)\n",
    "\n",
    "Use a math formular to represent that relationship. Test your formular with Python code."
   ]
  },
  {
   "cell_type": "code",
   "execution_count": 12,
   "metadata": {},
   "outputs": [
    {
     "name": "stdout",
     "output_type": "stream",
     "text": [
      "set1= 80\n",
      "set2= 59\n",
      "set3= 32\n",
      "set4= 11\n",
      "set5= 48\n",
      "set1=set3+set5 >> True\n",
      "set2=set4+set5 >> True\n"
     ]
    }
   ],
   "source": [
    "# Your code here\n",
    "\n",
    "print(f'set1=',len(set1))\n",
    "print(f'set2=',len(set2))\n",
    "print(f'set3=',len(set3))\n",
    "print(f'set4=',len(set4))\n",
    "print(f'set5=',len(set5))\n",
    "\n",
    "print(f'set1=set3+set5 >>',len(set1)==len(set3)+len(set5))\n",
    "print(f'set2=set4+set5 >>',len(set2)==len(set4)+len(set5))\n"
   ]
  },
  {
   "cell_type": "markdown",
   "metadata": {},
   "source": [
    "#### Create an empty set called `set6`."
   ]
  },
  {
   "cell_type": "code",
   "execution_count": 13,
   "metadata": {},
   "outputs": [
    {
     "name": "stdout",
     "output_type": "stream",
     "text": [
      "{}\n"
     ]
    }
   ],
   "source": [
    "# Your code here\n",
    "set6={}\n",
    "print(set6)"
   ]
  },
  {
   "cell_type": "markdown",
   "metadata": {},
   "source": [
    " Add `set3` and `set5` to `set6` using the Python Set `update` method."
   ]
  },
  {
   "cell_type": "code",
   "execution_count": null,
   "metadata": {},
   "outputs": [],
   "source": [
    "# Your code here\n"
   ]
  },
  {
   "cell_type": "markdown",
   "metadata": {},
   "source": [
    "#### Check if `set1` and `set6` are equal."
   ]
  },
  {
   "cell_type": "code",
   "execution_count": null,
   "metadata": {},
   "outputs": [],
   "source": [
    "# Your code here\n"
   ]
  },
  {
   "cell_type": "markdown",
   "metadata": {},
   "source": [
    "#### Check if `set1` contains `set2` using the Python Set `issubset` method. Then check if `set1` contains `set3`.*"
   ]
  },
  {
   "cell_type": "code",
   "execution_count": null,
   "metadata": {},
   "outputs": [],
   "source": [
    "# Your code here\n"
   ]
  },
  {
   "cell_type": "markdown",
   "metadata": {},
   "source": [
    "#### Using the Python Set `union` method, aggregate `set3`, `set4`, and `set5`. Then aggregate `set1` and `set2`. \n",
    "\n",
    "#### Check if the aggregated values are equal."
   ]
  },
  {
   "cell_type": "code",
   "execution_count": null,
   "metadata": {},
   "outputs": [],
   "source": [
    "# Your code here\n"
   ]
  },
  {
   "cell_type": "markdown",
   "metadata": {},
   "source": [
    "#### Using the `pop` method, remove the first element from `set1`."
   ]
  },
  {
   "cell_type": "code",
   "execution_count": null,
   "metadata": {},
   "outputs": [],
   "source": [
    "# Your code here\n"
   ]
  },
  {
   "cell_type": "markdown",
   "metadata": {},
   "source": [
    "#### Remove every element in the following list from `set1` if they are present in the set. Print the remaining elements.\n",
    "\n",
    "```\n",
    "list_to_remove = [1, 9, 11, 19, 21, 29, 31, 39, 41, 49, 51, 59, 61, 69, 71, 79, 81, 89, 91, 99]\n",
    "```"
   ]
  },
  {
   "cell_type": "code",
   "execution_count": null,
   "metadata": {},
   "outputs": [],
   "source": [
    "# Your code here\n"
   ]
  }
 ],
 "metadata": {
  "kernelspec": {
   "display_name": "Python 3",
   "language": "python",
   "name": "python3"
  },
  "language_info": {
   "codemirror_mode": {
    "name": "ipython",
    "version": 3
   },
   "file_extension": ".py",
   "mimetype": "text/x-python",
   "name": "python",
   "nbconvert_exporter": "python",
   "pygments_lexer": "ipython3",
   "version": "3.7.7"
  }
 },
 "nbformat": 4,
 "nbformat_minor": 4
}
