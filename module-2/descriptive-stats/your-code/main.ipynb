{
 "cells": [
  {
   "cell_type": "markdown",
   "metadata": {},
   "source": [
    "# Understanding Descriptive Statistics\n",
    "\n",
    "Import the necessary libraries here:"
   ]
  },
  {
   "cell_type": "code",
   "execution_count": 106,
   "metadata": {},
   "outputs": [],
   "source": [
    "# Libraries\n",
    "\n",
    "import pandas as pd\n",
    "import numpy as np\n",
    "import random\n",
    "import statistics\n",
    "import seaborn as sns\n",
    "import matplotlib.pyplot as plt"
   ]
  },
  {
   "cell_type": "markdown",
   "metadata": {},
   "source": [
    "## Challenge 1\n",
    "#### 1.- Define a function that simulates rolling a dice 10 times. Save the information in a dataframe.\n",
    "**Hint**: you can use the *choices* function from module *random* to help you with the simulation."
   ]
  },
  {
   "cell_type": "code",
   "execution_count": 2,
   "metadata": {},
   "outputs": [
    {
     "data": {
      "text/html": [
       "<div>\n",
       "<style scoped>\n",
       "    .dataframe tbody tr th:only-of-type {\n",
       "        vertical-align: middle;\n",
       "    }\n",
       "\n",
       "    .dataframe tbody tr th {\n",
       "        vertical-align: top;\n",
       "    }\n",
       "\n",
       "    .dataframe thead th {\n",
       "        text-align: right;\n",
       "    }\n",
       "</style>\n",
       "<table border=\"1\" class=\"dataframe\">\n",
       "  <thead>\n",
       "    <tr style=\"text-align: right;\">\n",
       "      <th></th>\n",
       "      <th>Rolling a dice</th>\n",
       "    </tr>\n",
       "  </thead>\n",
       "  <tbody>\n",
       "    <tr>\n",
       "      <th>0</th>\n",
       "      <td>6</td>\n",
       "    </tr>\n",
       "    <tr>\n",
       "      <th>1</th>\n",
       "      <td>4</td>\n",
       "    </tr>\n",
       "    <tr>\n",
       "      <th>2</th>\n",
       "      <td>1</td>\n",
       "    </tr>\n",
       "    <tr>\n",
       "      <th>3</th>\n",
       "      <td>1</td>\n",
       "    </tr>\n",
       "    <tr>\n",
       "      <th>4</th>\n",
       "      <td>4</td>\n",
       "    </tr>\n",
       "    <tr>\n",
       "      <th>5</th>\n",
       "      <td>1</td>\n",
       "    </tr>\n",
       "    <tr>\n",
       "      <th>6</th>\n",
       "      <td>5</td>\n",
       "    </tr>\n",
       "    <tr>\n",
       "      <th>7</th>\n",
       "      <td>6</td>\n",
       "    </tr>\n",
       "    <tr>\n",
       "      <th>8</th>\n",
       "      <td>3</td>\n",
       "    </tr>\n",
       "    <tr>\n",
       "      <th>9</th>\n",
       "      <td>3</td>\n",
       "    </tr>\n",
       "  </tbody>\n",
       "</table>\n",
       "</div>"
      ],
      "text/plain": [
       "   Rolling a dice\n",
       "0               6\n",
       "1               4\n",
       "2               1\n",
       "3               1\n",
       "4               4\n",
       "5               1\n",
       "6               5\n",
       "7               6\n",
       "8               3\n",
       "9               3"
      ]
     },
     "execution_count": 2,
     "metadata": {},
     "output_type": "execute_result"
    }
   ],
   "source": [
    "# your code here\n",
    "df=pd.DataFrame(random.choices([1,2,3,4,5,6], k=10), columns=['Rolling a dice'])\n",
    "df"
   ]
  },
  {
   "cell_type": "markdown",
   "metadata": {},
   "source": [
    "#### 2.- Plot the results sorted by value."
   ]
  },
  {
   "cell_type": "code",
   "execution_count": 3,
   "metadata": {},
   "outputs": [
    {
     "data": {
      "image/png": "[encoded data removed]",
      "text/plain": [
       "<Figure size 432x288 with 1 Axes>"
      ]
     },
     "metadata": {
      "needs_background": "light"
     },
     "output_type": "display_data"
    }
   ],
   "source": [
    "# your code here\n",
    "\n",
    "df.reset_index().plot(y ='Rolling a dice', x='index' , kind = 'scatter', title='Rolling a dice 10 times');"
   ]
  },
  {
   "cell_type": "markdown",
   "metadata": {},
   "source": [
    "#### 3.- Calculate the frequency distribution and plot it. What is the relation between this plot and the plot above? Describe it with words."
   ]
  },
  {
   "cell_type": "code",
   "execution_count": 4,
   "metadata": {},
   "outputs": [
    {
     "data": {
      "image/png": "[encoded data removed]",
      "text/plain": [
       "<Figure size 432x288 with 1 Axes>"
      ]
     },
     "metadata": {
      "needs_background": "light"
     },
     "output_type": "display_data"
    }
   ],
   "source": [
    "# your code here\n",
    "\n",
    "df.plot(kind='hist', title='Frequency of Rolling a dice 10 times');"
   ]
  },
  {
   "cell_type": "code",
   "execution_count": 5,
   "metadata": {},
   "outputs": [
    {
     "data": {
      "text/plain": [
       "'\\nyour comments here\\n\\nThe relationship of both plots are the data. We plot the same infirmation in a different way.\\nThe first plot (Rolling a dice 10 times) uses scatter kind and each time we roll a dice with a number between 1 and 6,\\nis represented with a dot.\\nThe second plot (Frequency) use histogram kind and each bar represent the quantity of any possible observation (1-6).\\n\\n'"
      ]
     },
     "execution_count": 5,
     "metadata": {},
     "output_type": "execute_result"
    }
   ],
   "source": [
    "\"\"\"\n",
    "your comments here\n",
    "\n",
    "The relationship of both plots are the data. We plot the same infirmation in a different way.\n",
    "The first plot (Rolling a dice 10 times) uses scatter kind and each time we roll a dice with a number between 1 and 6,\n",
    "is represented with a dot.\n",
    "The second plot (Frequency) use histogram kind and each bar represent the quantity of any possible observation (1-6).\n",
    "\n",
    "\"\"\""
   ]
  },
  {
   "cell_type": "markdown",
   "metadata": {},
   "source": [
    "## Challenge 2\n",
    "Now, using the dice results obtained in *challenge 1*, your are going to define some functions that will help you calculate the mean of your data in two different ways, the median and the four quartiles. \n",
    "\n",
    "#### 1.- Define a function that computes the mean by summing all the observations and dividing by the total number of observations. You are not allowed to use any methods or functions that directly calculate the mean value. "
   ]
  },
  {
   "cell_type": "code",
   "execution_count": 6,
   "metadata": {},
   "outputs": [
    {
     "name": "stdout",
     "output_type": "stream",
     "text": [
      "   Rolling a dice\n",
      "0               6\n",
      "1               4\n",
      "2               1\n",
      "3               1\n",
      "4               4\n",
      "5               1\n",
      "6               5\n",
      "7               6\n",
      "8               3\n",
      "9               3\n",
      "[6, 4, 1, 1, 4, 1, 5, 6, 3, 3]\n",
      "34\n",
      "10\n"
     ]
    },
    {
     "data": {
      "text/plain": [
       "3.4"
      ]
     },
     "execution_count": 6,
     "metadata": {},
     "output_type": "execute_result"
    }
   ],
   "source": [
    "# your code here\n",
    "\n",
    "print(df)\n",
    "aa=df['Rolling a dice'].tolist()\n",
    "print(aa)\n",
    "\n",
    "def my_mean(roll_list):\n",
    "    a=sum(roll_list)\n",
    "    b=len(roll_list)\n",
    "    print (a)\n",
    "    print (b)\n",
    "    return a/b\n",
    "\n",
    "my_mean(aa)\n"
   ]
  },
  {
   "cell_type": "markdown",
   "metadata": {},
   "source": [
    "#### 2.- First, calculate the frequency distribution. Then, calculate the mean using the values of the frequency distribution you've just computed. You are not allowed to use any methods or functions that directly calculate the mean value. "
   ]
  },
  {
   "cell_type": "code",
   "execution_count": 7,
   "metadata": {},
   "outputs": [
    {
     "name": "stdout",
     "output_type": "stream",
     "text": [
      "[1, 6, 4, 3, 5]\n",
      "[3, 2, 2, 2, 1]\n",
      "3.4\n"
     ]
    }
   ],
   "source": [
    "# your code here\n",
    "counts=df['Rolling a dice'].value_counts().tolist()\n",
    "values=df['Rolling a dice'].value_counts().keys().tolist()\n",
    "print(values)\n",
    "print(counts)\n",
    "\n",
    "def mean_1 (counts_1, values_1):\n",
    "    mean=0\n",
    "    for i in range(len(values_1)):\n",
    "        mean = mean + counts_1[i]*values_1[i]\n",
    "    mean=mean/sum(counts_1)\n",
    "    return mean\n",
    "\n",
    "print(mean_1(counts,values))\n",
    "\n"
   ]
  },
  {
   "cell_type": "markdown",
   "metadata": {},
   "source": [
    "#### 3.- Define a function to calculate the median. You are not allowed to use any methods or functions that directly calculate the median value. \n",
    "**Hint**: you might need to define two computation cases depending on the number of observations used to calculate the median."
   ]
  },
  {
   "cell_type": "code",
   "execution_count": 12,
   "metadata": {},
   "outputs": [
    {
     "name": "stdout",
     "output_type": "stream",
     "text": [
      "[1, 1, 1, 3, 3, 4, 4, 5, 6, 6]\n",
      "median= 3.5\n"
     ]
    }
   ],
   "source": [
    "# your code here\n",
    "med_list=df['Rolling a dice'].tolist()\n",
    "med_list.sort()\n",
    "print(med_list)\n",
    "\n",
    "def median_1(median_list):\n",
    "    if (len(median_list)%2==1):                                  # In case the number of observations is odd\n",
    "        median=median_list[int(len(median_list)/2)]\n",
    "    else:                                                        # In case the number of observations is even\n",
    "        median=(median_list[int(len(median_list)/2-1)]+median_list[int(len(median_list)/2)])/2\n",
    "    return median\n",
    "        \n",
    "print(f'median= {median_1(med_list)}')"
   ]
  },
  {
   "cell_type": "markdown",
   "metadata": {},
   "source": [
    "#### 4.- Define a function to calculate the four quartiles. You can use the function you defined above to compute the median but you are not allowed to use any methods or functions that directly calculate the quartiles. "
   ]
  },
  {
   "cell_type": "code",
   "execution_count": 13,
   "metadata": {},
   "outputs": [
    {
     "name": "stdout",
     "output_type": "stream",
     "text": [
      "[1, 1, 1, 3, 3, 4, 4, 5, 6, 6]\n",
      "3.5\n",
      "[1, 1, 1, 3, 3]\n",
      "1\n",
      "[4, 4, 5, 6, 6]\n",
      "5\n",
      "Q1=1 Q2=3.5 Q3=5 Q4=6 >> [1, 1, 1, 3, 3, 4, 4, 5, 6, 6]\n"
     ]
    }
   ],
   "source": [
    "# your code here\n",
    "\n",
    "# To calculate quartiles we split the dataset in two half from median already calculated.\n",
    "# The median of full dataset is the quartile 50%.\n",
    "# To calculate quartile 25% we calculate the median of lower half dataset\n",
    "# To calculate quartile 75% we calculate the median of upper half dataset\n",
    "# To calculate quartile 100% is the maximun\n",
    "\n",
    "def my_Quartiles(my_full_list):\n",
    "    print(my_full_list)\n",
    "    my_Q2=median_1(my_full_list)\n",
    "    print(my_Q2)\n",
    "    lwr_half_list=[]\n",
    "    upr_half_list=[]\n",
    "    full_dimension=len(my_full_list)\n",
    "    half_dimension=int(full_dimension/2)\n",
    "    for i in range(half_dimension):\n",
    "        if (my_full_list[i]<my_Q2):\n",
    "            lwr_half_list.append(my_full_list[i])\n",
    "    print(lwr_half_list)\n",
    "    my_Q1=median_1(lwr_half_list)\n",
    "    print(my_Q1)\n",
    "    for i in range(half_dimension,full_dimension):\n",
    "        if (my_full_list[i]>my_Q2):\n",
    "            upr_half_list.append(my_full_list[i])\n",
    "    print(upr_half_list)\n",
    "    my_Q3=median_1(upr_half_list)\n",
    "    print(my_Q3)\n",
    "    my_Q4=my_full_list[full_dimension-1]\n",
    "    return my_Q1, my_Q2, my_Q3, my_Q4\n",
    "\n",
    "Q1, Q2, Q3, Q4 = my_Quartiles(med_list)\n",
    "\n",
    "print(f'Q1={Q1} Q2={Q2} Q3={Q3} Q4={Q4} >> {med_list}')\n"
   ]
  },
  {
   "cell_type": "markdown",
   "metadata": {},
   "source": [
    "## Challenge 3\n",
    "Read the csv `roll_the_dice_hundred.csv` from the `data` folder.\n",
    "#### 1.- Sort the values and plot them. What do you see?"
   ]
  },
  {
   "cell_type": "code",
   "execution_count": 14,
   "metadata": {},
   "outputs": [
    {
     "name": "stdout",
     "output_type": "stream",
     "text": [
      "[1, 1, 1, 1, 1, 1, 1, 1, 1, 1, 1, 1, 2, 2, 2, 2, 2, 2, 2, 2, 2, 2, 2, 2, 2, 2, 2, 2, 2, 3, 3, 3, 3, 3, 3, 3, 3, 3, 3, 3, 3, 3, 3, 4, 4, 4, 4, 4, 4, 4, 4, 4, 4, 4, 4, 4, 4, 4, 4, 4, 4, 4, 4, 4, 4, 5, 5, 5, 5, 5, 5, 5, 5, 5, 5, 5, 5, 6, 6, 6, 6, 6, 6, 6, 6, 6, 6, 6, 6, 6, 6, 6, 6, 6, 6, 6, 6, 6, 6, 6]\n"
     ]
    },
    {
     "data": {
      "image/png": "[encoded data removed]",
      "text/plain": [
       "<Figure size 432x288 with 1 Axes>"
      ]
     },
     "metadata": {
      "needs_background": "light"
     },
     "output_type": "display_data"
    }
   ],
   "source": [
    "# your code here\n",
    "df_hundred=pd.read_csv('../data/roll_the_dice_hundred.csv', index_col=0)\n",
    "my_values=df_hundred['value'].tolist()\n",
    "my_values.sort()\n",
    "print(my_values)\n",
    "df=pd.DataFrame(my_values, columns=['Rolling a dice']).reset_index().plot(y ='Rolling a dice', x='index' , kind = 'scatter', title='Rolling a dice 100 times');"
   ]
  },
  {
   "cell_type": "code",
   "execution_count": 16,
   "metadata": {},
   "outputs": [
    {
     "data": {
      "text/plain": [
       "'\\nyour comments here\\n\\nI see a six lines (set of dots) and the length of the line represent the quantity of times a value is observed.\\n\\n\\n'"
      ]
     },
     "execution_count": 16,
     "metadata": {},
     "output_type": "execute_result"
    }
   ],
   "source": [
    "\"\"\"\n",
    "your comments here\n",
    "\n",
    "I see a six lines (set of dots) and the length of the line represent the quantity of times a value is observed.\n",
    "\n",
    "\n",
    "\"\"\""
   ]
  },
  {
   "cell_type": "markdown",
   "metadata": {},
   "source": [
    "#### 2.- Using the functions you defined in *challenge 2*, calculate the mean value of the hundred dice rolls."
   ]
  },
  {
   "cell_type": "code",
   "execution_count": 17,
   "metadata": {},
   "outputs": [
    {
     "name": "stdout",
     "output_type": "stream",
     "text": [
      "374\n",
      "100\n"
     ]
    },
    {
     "data": {
      "text/plain": [
       "3.74"
      ]
     },
     "execution_count": 17,
     "metadata": {},
     "output_type": "execute_result"
    }
   ],
   "source": [
    "# your code here\n",
    "\n",
    "my_mean(my_values)"
   ]
  },
  {
   "cell_type": "markdown",
   "metadata": {},
   "source": [
    "#### 3.- Now, calculate the frequency distribution.\n"
   ]
  },
  {
   "cell_type": "code",
   "execution_count": 18,
   "metadata": {},
   "outputs": [
    {
     "data": {
      "text/html": [
       "<div>\n",
       "<style scoped>\n",
       "    .dataframe tbody tr th:only-of-type {\n",
       "        vertical-align: middle;\n",
       "    }\n",
       "\n",
       "    .dataframe tbody tr th {\n",
       "        vertical-align: top;\n",
       "    }\n",
       "\n",
       "    .dataframe thead th {\n",
       "        text-align: right;\n",
       "    }\n",
       "</style>\n",
       "<table border=\"1\" class=\"dataframe\">\n",
       "  <thead>\n",
       "    <tr style=\"text-align: right;\">\n",
       "      <th></th>\n",
       "      <th>value</th>\n",
       "      <th>count</th>\n",
       "    </tr>\n",
       "  </thead>\n",
       "  <tbody>\n",
       "    <tr>\n",
       "      <th>0</th>\n",
       "      <td>1</td>\n",
       "      <td>12</td>\n",
       "    </tr>\n",
       "    <tr>\n",
       "      <th>1</th>\n",
       "      <td>2</td>\n",
       "      <td>17</td>\n",
       "    </tr>\n",
       "    <tr>\n",
       "      <th>2</th>\n",
       "      <td>3</td>\n",
       "      <td>14</td>\n",
       "    </tr>\n",
       "    <tr>\n",
       "      <th>3</th>\n",
       "      <td>4</td>\n",
       "      <td>22</td>\n",
       "    </tr>\n",
       "    <tr>\n",
       "      <th>4</th>\n",
       "      <td>5</td>\n",
       "      <td>12</td>\n",
       "    </tr>\n",
       "    <tr>\n",
       "      <th>5</th>\n",
       "      <td>6</td>\n",
       "      <td>23</td>\n",
       "    </tr>\n",
       "  </tbody>\n",
       "</table>\n",
       "</div>"
      ],
      "text/plain": [
       "   value  count\n",
       "0      1     12\n",
       "1      2     17\n",
       "2      3     14\n",
       "3      4     22\n",
       "4      5     12\n",
       "5      6     23"
      ]
     },
     "execution_count": 18,
     "metadata": {},
     "output_type": "execute_result"
    }
   ],
   "source": [
    "# your code here\n",
    "data = pd.value_counts(df_hundred['value']).to_frame().reset_index()\n",
    "data.columns=['value','count']\n",
    "data=data.sort_values(['value'], ascending=True)\n",
    "data.reset_index(drop=True)\n"
   ]
  },
  {
   "cell_type": "markdown",
   "metadata": {},
   "source": [
    "#### 4.- Plot the histogram. What do you see (shape, values...) ? How can you connect the mean value to the histogram? "
   ]
  },
  {
   "cell_type": "code",
   "execution_count": 22,
   "metadata": {},
   "outputs": [
    {
     "data": {
      "image/png": "[encoded data removed]",
      "text/plain": [
       "<Figure size 432x288 with 1 Axes>"
      ]
     },
     "metadata": {
      "needs_background": "light"
     },
     "output_type": "display_data"
    }
   ],
   "source": [
    "# your code here\n",
    "df_hundred['value'].plot(kind='hist', title='Frequency of Rolling a dice 100 times');"
   ]
  },
  {
   "cell_type": "code",
   "execution_count": null,
   "metadata": {},
   "outputs": [],
   "source": [
    "\"\"\"\n",
    "your comments here\n",
    "\n",
    "The mean is 3.74 and is clearly on the right part of the plot because the right part is higher to the left part.\n",
    "There are quite diferences values between higher and lower values.\n",
    "\"\"\""
   ]
  },
  {
   "cell_type": "markdown",
   "metadata": {},
   "source": [
    "#### 5.- Read the `roll_the_dice_thousand.csv` from the `data` folder. Plot the frequency distribution as you did before. Has anything changed? Why do you think it changed?"
   ]
  },
  {
   "cell_type": "code",
   "execution_count": 27,
   "metadata": {},
   "outputs": [
    {
     "data": {
      "text/html": [
       "<div>\n",
       "<style scoped>\n",
       "    .dataframe tbody tr th:only-of-type {\n",
       "        vertical-align: middle;\n",
       "    }\n",
       "\n",
       "    .dataframe tbody tr th {\n",
       "        vertical-align: top;\n",
       "    }\n",
       "\n",
       "    .dataframe thead th {\n",
       "        text-align: right;\n",
       "    }\n",
       "</style>\n",
       "<table border=\"1\" class=\"dataframe\">\n",
       "  <thead>\n",
       "    <tr style=\"text-align: right;\">\n",
       "      <th></th>\n",
       "      <th>value</th>\n",
       "      <th>count</th>\n",
       "    </tr>\n",
       "  </thead>\n",
       "  <tbody>\n",
       "    <tr>\n",
       "      <th>0</th>\n",
       "      <td>1</td>\n",
       "      <td>175</td>\n",
       "    </tr>\n",
       "    <tr>\n",
       "      <th>1</th>\n",
       "      <td>2</td>\n",
       "      <td>167</td>\n",
       "    </tr>\n",
       "    <tr>\n",
       "      <th>2</th>\n",
       "      <td>3</td>\n",
       "      <td>175</td>\n",
       "    </tr>\n",
       "    <tr>\n",
       "      <th>3</th>\n",
       "      <td>4</td>\n",
       "      <td>168</td>\n",
       "    </tr>\n",
       "    <tr>\n",
       "      <th>4</th>\n",
       "      <td>5</td>\n",
       "      <td>149</td>\n",
       "    </tr>\n",
       "    <tr>\n",
       "      <th>5</th>\n",
       "      <td>6</td>\n",
       "      <td>166</td>\n",
       "    </tr>\n",
       "  </tbody>\n",
       "</table>\n",
       "</div>"
      ],
      "text/plain": [
       "   value  count\n",
       "0      1    175\n",
       "1      2    167\n",
       "2      3    175\n",
       "3      4    168\n",
       "4      5    149\n",
       "5      6    166"
      ]
     },
     "execution_count": 27,
     "metadata": {},
     "output_type": "execute_result"
    }
   ],
   "source": [
    "# your code here\n",
    "df_thousand=pd.read_csv('../data/roll_the_dice_thousand.csv', index_col=0)\n",
    "\n",
    "data_t = pd.value_counts(df_thousand['value']).to_frame().reset_index()\n",
    "data_t.columns=['value','count']\n",
    "data_t=data_t.sort_values(['value'], ascending=True)\n",
    "data_t.reset_index(drop=True)\n"
   ]
  },
  {
   "cell_type": "code",
   "execution_count": 30,
   "metadata": {},
   "outputs": [
    {
     "name": "stdout",
     "output_type": "stream",
     "text": [
      "3447\n",
      "1000\n"
     ]
    },
    {
     "data": {
      "text/plain": [
       "3.447"
      ]
     },
     "execution_count": 30,
     "metadata": {},
     "output_type": "execute_result"
    }
   ],
   "source": [
    "my_mean(df_thousand['value'].tolist())"
   ]
  },
  {
   "cell_type": "code",
   "execution_count": 38,
   "metadata": {},
   "outputs": [
    {
     "data": {
      "image/png": "[encoded data removed]",
      "text/plain": [
       "<Figure size 432x288 with 1 Axes>"
      ]
     },
     "metadata": {
      "needs_background": "light"
     },
     "output_type": "display_data"
    }
   ],
   "source": [
    "df_thousand['value'].plot(kind='hist', title='Frequency of Rolling a dice 1000 times');"
   ]
  },
  {
   "cell_type": "code",
   "execution_count": null,
   "metadata": {},
   "outputs": [],
   "source": [
    "\"\"\"\n",
    "your comments here\n",
    "\n",
    "In that case the distribution of observations are very similar between each value. The plot are more uniform.\n",
    "The mean is closer to the value 3 because the distribution are more uniform than the case before.\n",
    "\n",
    "The change is the quantity of observation (1000 vs 100). That make the distribution are more closer to the theorical probability\n",
    "per value (1/6 = 0.166666)\n",
    "value 1 = 0.175\n",
    "value 2 = 0.167\n",
    "value 3 = 0.175\n",
    "value 4 = 0.168\n",
    "value 5 = 0.149\n",
    "value 6 = 0.166\n",
    "\n",
    "\"\"\""
   ]
  },
  {
   "cell_type": "markdown",
   "metadata": {},
   "source": [
    "## Challenge 4\n",
    "In the `data` folder of this repository you will find three different files with the prefix `ages_population`. These files contain information about a poll answered by a thousand people regarding their age. Each file corresponds to the poll answers in different neighbourhoods of Barcelona.\n",
    "\n",
    "#### 1.- Read the file `ages_population.csv`. Calculate the frequency distribution and plot it as we did during the lesson. Try to guess the range in which the mean and the standard deviation will be by looking at the plot. "
   ]
  },
  {
   "cell_type": "code",
   "execution_count": 36,
   "metadata": {},
   "outputs": [
    {
     "data": {
      "text/html": [
       "<div>\n",
       "<style scoped>\n",
       "    .dataframe tbody tr th:only-of-type {\n",
       "        vertical-align: middle;\n",
       "    }\n",
       "\n",
       "    .dataframe tbody tr th {\n",
       "        vertical-align: top;\n",
       "    }\n",
       "\n",
       "    .dataframe thead th {\n",
       "        text-align: right;\n",
       "    }\n",
       "</style>\n",
       "<table border=\"1\" class=\"dataframe\">\n",
       "  <thead>\n",
       "    <tr style=\"text-align: right;\">\n",
       "      <th></th>\n",
       "      <th>observation</th>\n",
       "    </tr>\n",
       "  </thead>\n",
       "  <tbody>\n",
       "    <tr>\n",
       "      <th>0</th>\n",
       "      <td>68.0</td>\n",
       "    </tr>\n",
       "    <tr>\n",
       "      <th>1</th>\n",
       "      <td>12.0</td>\n",
       "    </tr>\n",
       "    <tr>\n",
       "      <th>2</th>\n",
       "      <td>45.0</td>\n",
       "    </tr>\n",
       "    <tr>\n",
       "      <th>3</th>\n",
       "      <td>38.0</td>\n",
       "    </tr>\n",
       "    <tr>\n",
       "      <th>4</th>\n",
       "      <td>49.0</td>\n",
       "    </tr>\n",
       "    <tr>\n",
       "      <th>...</th>\n",
       "      <td>...</td>\n",
       "    </tr>\n",
       "    <tr>\n",
       "      <th>995</th>\n",
       "      <td>27.0</td>\n",
       "    </tr>\n",
       "    <tr>\n",
       "      <th>996</th>\n",
       "      <td>47.0</td>\n",
       "    </tr>\n",
       "    <tr>\n",
       "      <th>997</th>\n",
       "      <td>53.0</td>\n",
       "    </tr>\n",
       "    <tr>\n",
       "      <th>998</th>\n",
       "      <td>33.0</td>\n",
       "    </tr>\n",
       "    <tr>\n",
       "      <th>999</th>\n",
       "      <td>31.0</td>\n",
       "    </tr>\n",
       "  </tbody>\n",
       "</table>\n",
       "<p>1000 rows × 1 columns</p>\n",
       "</div>"
      ],
      "text/plain": [
       "     observation\n",
       "0           68.0\n",
       "1           12.0\n",
       "2           45.0\n",
       "3           38.0\n",
       "4           49.0\n",
       "..           ...\n",
       "995         27.0\n",
       "996         47.0\n",
       "997         53.0\n",
       "998         33.0\n",
       "999         31.0\n",
       "\n",
       "[1000 rows x 1 columns]"
      ]
     },
     "execution_count": 36,
     "metadata": {},
     "output_type": "execute_result"
    }
   ],
   "source": [
    "# your code here\n",
    "df_population=pd.read_csv('../data/ages_population.csv')\n",
    "df_population\n"
   ]
  },
  {
   "cell_type": "code",
   "execution_count": 37,
   "metadata": {},
   "outputs": [
    {
     "data": {
      "text/html": [
       "<div>\n",
       "<style scoped>\n",
       "    .dataframe tbody tr th:only-of-type {\n",
       "        vertical-align: middle;\n",
       "    }\n",
       "\n",
       "    .dataframe tbody tr th {\n",
       "        vertical-align: top;\n",
       "    }\n",
       "\n",
       "    .dataframe thead th {\n",
       "        text-align: right;\n",
       "    }\n",
       "</style>\n",
       "<table border=\"1\" class=\"dataframe\">\n",
       "  <thead>\n",
       "    <tr style=\"text-align: right;\">\n",
       "      <th></th>\n",
       "      <th>age</th>\n",
       "      <th>count</th>\n",
       "    </tr>\n",
       "  </thead>\n",
       "  <tbody>\n",
       "    <tr>\n",
       "      <th>0</th>\n",
       "      <td>1.0</td>\n",
       "      <td>2</td>\n",
       "    </tr>\n",
       "    <tr>\n",
       "      <th>1</th>\n",
       "      <td>2.0</td>\n",
       "      <td>2</td>\n",
       "    </tr>\n",
       "    <tr>\n",
       "      <th>2</th>\n",
       "      <td>4.0</td>\n",
       "      <td>1</td>\n",
       "    </tr>\n",
       "    <tr>\n",
       "      <th>3</th>\n",
       "      <td>5.0</td>\n",
       "      <td>2</td>\n",
       "    </tr>\n",
       "    <tr>\n",
       "      <th>4</th>\n",
       "      <td>6.0</td>\n",
       "      <td>2</td>\n",
       "    </tr>\n",
       "    <tr>\n",
       "      <th>...</th>\n",
       "      <td>...</td>\n",
       "      <td>...</td>\n",
       "    </tr>\n",
       "    <tr>\n",
       "      <th>67</th>\n",
       "      <td>69.0</td>\n",
       "      <td>1</td>\n",
       "    </tr>\n",
       "    <tr>\n",
       "      <th>68</th>\n",
       "      <td>70.0</td>\n",
       "      <td>1</td>\n",
       "    </tr>\n",
       "    <tr>\n",
       "      <th>69</th>\n",
       "      <td>71.0</td>\n",
       "      <td>1</td>\n",
       "    </tr>\n",
       "    <tr>\n",
       "      <th>70</th>\n",
       "      <td>73.0</td>\n",
       "      <td>1</td>\n",
       "    </tr>\n",
       "    <tr>\n",
       "      <th>71</th>\n",
       "      <td>82.0</td>\n",
       "      <td>1</td>\n",
       "    </tr>\n",
       "  </tbody>\n",
       "</table>\n",
       "<p>72 rows × 2 columns</p>\n",
       "</div>"
      ],
      "text/plain": [
       "     age  count\n",
       "0    1.0      2\n",
       "1    2.0      2\n",
       "2    4.0      1\n",
       "3    5.0      2\n",
       "4    6.0      2\n",
       "..   ...    ...\n",
       "67  69.0      1\n",
       "68  70.0      1\n",
       "69  71.0      1\n",
       "70  73.0      1\n",
       "71  82.0      1\n",
       "\n",
       "[72 rows x 2 columns]"
      ]
     },
     "execution_count": 37,
     "metadata": {},
     "output_type": "execute_result"
    }
   ],
   "source": [
    "\n",
    "data_p = pd.value_counts(df_population['observation']).to_frame().reset_index()\n",
    "data_p.columns=['age','count']\n",
    "data_p=data_p.sort_values(['age'], ascending=True)\n",
    "data_p.reset_index(drop=True)"
   ]
  },
  {
   "cell_type": "code",
   "execution_count": 39,
   "metadata": {},
   "outputs": [
    {
     "data": {
      "image/png": "[encoded data removed]",
      "text/plain": [
       "<Figure size 432x288 with 1 Axes>"
      ]
     },
     "metadata": {
      "needs_background": "light"
     },
     "output_type": "display_data"
    }
   ],
   "source": [
    "df_population['observation'].plot(kind='hist', title='Frequency of ages in a population of 1000');"
   ]
  },
  {
   "cell_type": "code",
   "execution_count": null,
   "metadata": {},
   "outputs": [],
   "source": [
    "\"\"\"\n",
    "\n",
    "The mean will be in the range of 30-40 years aproximately because of the quantity around these ages are big.\n",
    "The standard deviation should be around 10 or 15 years.\n",
    "\n",
    "\"\"\""
   ]
  },
  {
   "cell_type": "markdown",
   "metadata": {},
   "source": [
    "#### 2.- Calculate the exact mean and standard deviation and compare them with your guesses. Do they fall inside the ranges you guessed?"
   ]
  },
  {
   "cell_type": "code",
   "execution_count": 47,
   "metadata": {},
   "outputs": [
    {
     "name": "stdout",
     "output_type": "stream",
     "text": [
      "36560.0\n",
      "1000\n",
      "mean = 36.56\n",
      "standar deviation = 12.81649962597677\n"
     ]
    }
   ],
   "source": [
    "# your code here\n",
    "p_mean=my_mean(df_population['observation'].tolist());\n",
    "p_std_dev=statistics.stdev(df_population['observation'].tolist())\n",
    "print(f'mean = {p_mean}')\n",
    "print(f'standard deviation = {p_std_dev}')"
   ]
  },
  {
   "cell_type": "code",
   "execution_count": null,
   "metadata": {},
   "outputs": [],
   "source": [
    "\"\"\"\n",
    "your comments here\n",
    "\n",
    "My estimations were correct, but I was not sure about standard deviation.\n",
    "In that case the estimation of mean is easy because the figure is like a pyramid and the mean should be around the top.\n",
    "In case of estimation of standard deviation is more dificult because from the mean you have to estimate the average deviation.\n",
    "\n",
    "In general with a normal distribution like this case is easy.\n",
    "\"\"\""
   ]
  },
  {
   "cell_type": "markdown",
   "metadata": {},
   "source": [
    "#### 3.- Now read the file `ages_population2.csv` . Calculate the frequency distribution and plot it."
   ]
  },
  {
   "cell_type": "code",
   "execution_count": 48,
   "metadata": {},
   "outputs": [
    {
     "data": {
      "text/html": [
       "<div>\n",
       "<style scoped>\n",
       "    .dataframe tbody tr th:only-of-type {\n",
       "        vertical-align: middle;\n",
       "    }\n",
       "\n",
       "    .dataframe tbody tr th {\n",
       "        vertical-align: top;\n",
       "    }\n",
       "\n",
       "    .dataframe thead th {\n",
       "        text-align: right;\n",
       "    }\n",
       "</style>\n",
       "<table border=\"1\" class=\"dataframe\">\n",
       "  <thead>\n",
       "    <tr style=\"text-align: right;\">\n",
       "      <th></th>\n",
       "      <th>observation</th>\n",
       "    </tr>\n",
       "  </thead>\n",
       "  <tbody>\n",
       "    <tr>\n",
       "      <th>0</th>\n",
       "      <td>25.0</td>\n",
       "    </tr>\n",
       "    <tr>\n",
       "      <th>1</th>\n",
       "      <td>31.0</td>\n",
       "    </tr>\n",
       "    <tr>\n",
       "      <th>2</th>\n",
       "      <td>29.0</td>\n",
       "    </tr>\n",
       "    <tr>\n",
       "      <th>3</th>\n",
       "      <td>31.0</td>\n",
       "    </tr>\n",
       "    <tr>\n",
       "      <th>4</th>\n",
       "      <td>29.0</td>\n",
       "    </tr>\n",
       "    <tr>\n",
       "      <th>...</th>\n",
       "      <td>...</td>\n",
       "    </tr>\n",
       "    <tr>\n",
       "      <th>995</th>\n",
       "      <td>26.0</td>\n",
       "    </tr>\n",
       "    <tr>\n",
       "      <th>996</th>\n",
       "      <td>22.0</td>\n",
       "    </tr>\n",
       "    <tr>\n",
       "      <th>997</th>\n",
       "      <td>21.0</td>\n",
       "    </tr>\n",
       "    <tr>\n",
       "      <th>998</th>\n",
       "      <td>19.0</td>\n",
       "    </tr>\n",
       "    <tr>\n",
       "      <th>999</th>\n",
       "      <td>28.0</td>\n",
       "    </tr>\n",
       "  </tbody>\n",
       "</table>\n",
       "<p>1000 rows × 1 columns</p>\n",
       "</div>"
      ],
      "text/plain": [
       "     observation\n",
       "0           25.0\n",
       "1           31.0\n",
       "2           29.0\n",
       "3           31.0\n",
       "4           29.0\n",
       "..           ...\n",
       "995         26.0\n",
       "996         22.0\n",
       "997         21.0\n",
       "998         19.0\n",
       "999         28.0\n",
       "\n",
       "[1000 rows x 1 columns]"
      ]
     },
     "execution_count": 48,
     "metadata": {},
     "output_type": "execute_result"
    }
   ],
   "source": [
    "# your code here\n",
    "df_population2=pd.read_csv('../data/ages_population2.csv')\n",
    "df_population2"
   ]
  },
  {
   "cell_type": "code",
   "execution_count": 50,
   "metadata": {},
   "outputs": [
    {
     "data": {
      "text/html": [
       "<div>\n",
       "<style scoped>\n",
       "    .dataframe tbody tr th:only-of-type {\n",
       "        vertical-align: middle;\n",
       "    }\n",
       "\n",
       "    .dataframe tbody tr th {\n",
       "        vertical-align: top;\n",
       "    }\n",
       "\n",
       "    .dataframe thead th {\n",
       "        text-align: right;\n",
       "    }\n",
       "</style>\n",
       "<table border=\"1\" class=\"dataframe\">\n",
       "  <thead>\n",
       "    <tr style=\"text-align: right;\">\n",
       "      <th></th>\n",
       "      <th>age</th>\n",
       "      <th>count</th>\n",
       "    </tr>\n",
       "  </thead>\n",
       "  <tbody>\n",
       "    <tr>\n",
       "      <th>0</th>\n",
       "      <td>19.0</td>\n",
       "      <td>3</td>\n",
       "    </tr>\n",
       "    <tr>\n",
       "      <th>1</th>\n",
       "      <td>20.0</td>\n",
       "      <td>13</td>\n",
       "    </tr>\n",
       "    <tr>\n",
       "      <th>2</th>\n",
       "      <td>21.0</td>\n",
       "      <td>17</td>\n",
       "    </tr>\n",
       "    <tr>\n",
       "      <th>3</th>\n",
       "      <td>22.0</td>\n",
       "      <td>35</td>\n",
       "    </tr>\n",
       "    <tr>\n",
       "      <th>4</th>\n",
       "      <td>23.0</td>\n",
       "      <td>41</td>\n",
       "    </tr>\n",
       "    <tr>\n",
       "      <th>5</th>\n",
       "      <td>24.0</td>\n",
       "      <td>78</td>\n",
       "    </tr>\n",
       "    <tr>\n",
       "      <th>6</th>\n",
       "      <td>25.0</td>\n",
       "      <td>98</td>\n",
       "    </tr>\n",
       "    <tr>\n",
       "      <th>7</th>\n",
       "      <td>26.0</td>\n",
       "      <td>120</td>\n",
       "    </tr>\n",
       "    <tr>\n",
       "      <th>8</th>\n",
       "      <td>27.0</td>\n",
       "      <td>125</td>\n",
       "    </tr>\n",
       "    <tr>\n",
       "      <th>9</th>\n",
       "      <td>28.0</td>\n",
       "      <td>139</td>\n",
       "    </tr>\n",
       "    <tr>\n",
       "      <th>10</th>\n",
       "      <td>29.0</td>\n",
       "      <td>115</td>\n",
       "    </tr>\n",
       "    <tr>\n",
       "      <th>11</th>\n",
       "      <td>30.0</td>\n",
       "      <td>90</td>\n",
       "    </tr>\n",
       "    <tr>\n",
       "      <th>12</th>\n",
       "      <td>31.0</td>\n",
       "      <td>61</td>\n",
       "    </tr>\n",
       "    <tr>\n",
       "      <th>13</th>\n",
       "      <td>32.0</td>\n",
       "      <td>31</td>\n",
       "    </tr>\n",
       "    <tr>\n",
       "      <th>14</th>\n",
       "      <td>33.0</td>\n",
       "      <td>22</td>\n",
       "    </tr>\n",
       "    <tr>\n",
       "      <th>15</th>\n",
       "      <td>34.0</td>\n",
       "      <td>7</td>\n",
       "    </tr>\n",
       "    <tr>\n",
       "      <th>16</th>\n",
       "      <td>35.0</td>\n",
       "      <td>3</td>\n",
       "    </tr>\n",
       "    <tr>\n",
       "      <th>17</th>\n",
       "      <td>36.0</td>\n",
       "      <td>2</td>\n",
       "    </tr>\n",
       "  </tbody>\n",
       "</table>\n",
       "</div>"
      ],
      "text/plain": [
       "     age  count\n",
       "0   19.0      3\n",
       "1   20.0     13\n",
       "2   21.0     17\n",
       "3   22.0     35\n",
       "4   23.0     41\n",
       "5   24.0     78\n",
       "6   25.0     98\n",
       "7   26.0    120\n",
       "8   27.0    125\n",
       "9   28.0    139\n",
       "10  29.0    115\n",
       "11  30.0     90\n",
       "12  31.0     61\n",
       "13  32.0     31\n",
       "14  33.0     22\n",
       "15  34.0      7\n",
       "16  35.0      3\n",
       "17  36.0      2"
      ]
     },
     "execution_count": 50,
     "metadata": {},
     "output_type": "execute_result"
    }
   ],
   "source": [
    "data_p2 = pd.value_counts(df_population2['observation']).to_frame().reset_index()\n",
    "data_p2.columns=['age','count']\n",
    "data_p2=data_p2.sort_values(['age'], ascending=True)\n",
    "data_p2.reset_index(drop=True)"
   ]
  },
  {
   "cell_type": "code",
   "execution_count": 51,
   "metadata": {},
   "outputs": [
    {
     "data": {
      "image/png": "[encoded data removed]",
      "text/plain": [
       "<Figure size 432x288 with 1 Axes>"
      ]
     },
     "metadata": {
      "needs_background": "light"
     },
     "output_type": "display_data"
    }
   ],
   "source": [
    "df_population2['observation'].plot(kind='hist', title='Frequency of ages in a population2 of 1000');"
   ]
  },
  {
   "cell_type": "markdown",
   "metadata": {},
   "source": [
    "####  4.- What do you see? Is there any difference with the frequency distribution in step 1?"
   ]
  },
  {
   "cell_type": "code",
   "execution_count": null,
   "metadata": {},
   "outputs": [],
   "source": [
    "\"\"\"\n",
    "your comments here\n",
    "\n",
    "In that case the distribution is similar to the case before. Both are more or les a normal distribution. \n",
    "The difference is the range of ages 20-35 instead of 1-80. So the mean should be around 27.5 and standard deviation around 3.\n",
    "\"\"\""
   ]
  },
  {
   "cell_type": "markdown",
   "metadata": {},
   "source": [
    "#### 5.- Calculate the mean and standard deviation. Compare the results with the mean and standard deviation in step 2. What do you think?"
   ]
  },
  {
   "cell_type": "code",
   "execution_count": 52,
   "metadata": {},
   "outputs": [
    {
     "name": "stdout",
     "output_type": "stream",
     "text": [
      "27155.0\n",
      "1000\n",
      "mean = 27.155\n",
      "standar deviation = 2.9698139326891835\n"
     ]
    }
   ],
   "source": [
    "# your code here\n",
    "p_mean2=my_mean(df_population2['observation'].tolist());\n",
    "p_std_dev2=statistics.stdev(df_population2['observation'].tolist())\n",
    "print(f'mean = {p_mean2}')\n",
    "print(f'standard deviation = {p_std_dev2}')"
   ]
  },
  {
   "cell_type": "code",
   "execution_count": null,
   "metadata": {},
   "outputs": [],
   "source": [
    "\"\"\"\n",
    "your comments here\n",
    "\n",
    "The distribution of ages are similar the previous data set. You can see more population concentraded around the 27.5 age\n",
    "than in previous dataset. This population is younger than the first one.\n",
    "\n",
    "\"\"\""
   ]
  },
  {
   "cell_type": "markdown",
   "metadata": {},
   "source": [
    "## Challenge 5\n",
    "Now is the turn of `ages_population3.csv`.\n",
    "\n",
    "#### 1.- Read the file `ages_population3.csv`. Calculate the frequency distribution and plot it."
   ]
  },
  {
   "cell_type": "code",
   "execution_count": 53,
   "metadata": {},
   "outputs": [
    {
     "data": {
      "text/html": [
       "<div>\n",
       "<style scoped>\n",
       "    .dataframe tbody tr th:only-of-type {\n",
       "        vertical-align: middle;\n",
       "    }\n",
       "\n",
       "    .dataframe tbody tr th {\n",
       "        vertical-align: top;\n",
       "    }\n",
       "\n",
       "    .dataframe thead th {\n",
       "        text-align: right;\n",
       "    }\n",
       "</style>\n",
       "<table border=\"1\" class=\"dataframe\">\n",
       "  <thead>\n",
       "    <tr style=\"text-align: right;\">\n",
       "      <th></th>\n",
       "      <th>observation</th>\n",
       "    </tr>\n",
       "  </thead>\n",
       "  <tbody>\n",
       "    <tr>\n",
       "      <th>0</th>\n",
       "      <td>21.0</td>\n",
       "    </tr>\n",
       "    <tr>\n",
       "      <th>1</th>\n",
       "      <td>21.0</td>\n",
       "    </tr>\n",
       "    <tr>\n",
       "      <th>2</th>\n",
       "      <td>24.0</td>\n",
       "    </tr>\n",
       "    <tr>\n",
       "      <th>3</th>\n",
       "      <td>31.0</td>\n",
       "    </tr>\n",
       "    <tr>\n",
       "      <th>4</th>\n",
       "      <td>54.0</td>\n",
       "    </tr>\n",
       "    <tr>\n",
       "      <th>...</th>\n",
       "      <td>...</td>\n",
       "    </tr>\n",
       "    <tr>\n",
       "      <th>995</th>\n",
       "      <td>16.0</td>\n",
       "    </tr>\n",
       "    <tr>\n",
       "      <th>996</th>\n",
       "      <td>55.0</td>\n",
       "    </tr>\n",
       "    <tr>\n",
       "      <th>997</th>\n",
       "      <td>30.0</td>\n",
       "    </tr>\n",
       "    <tr>\n",
       "      <th>998</th>\n",
       "      <td>35.0</td>\n",
       "    </tr>\n",
       "    <tr>\n",
       "      <th>999</th>\n",
       "      <td>43.0</td>\n",
       "    </tr>\n",
       "  </tbody>\n",
       "</table>\n",
       "<p>1000 rows × 1 columns</p>\n",
       "</div>"
      ],
      "text/plain": [
       "     observation\n",
       "0           21.0\n",
       "1           21.0\n",
       "2           24.0\n",
       "3           31.0\n",
       "4           54.0\n",
       "..           ...\n",
       "995         16.0\n",
       "996         55.0\n",
       "997         30.0\n",
       "998         35.0\n",
       "999         43.0\n",
       "\n",
       "[1000 rows x 1 columns]"
      ]
     },
     "execution_count": 53,
     "metadata": {},
     "output_type": "execute_result"
    }
   ],
   "source": [
    "# your code here\n",
    "df_population3=pd.read_csv('../data/ages_population3.csv')\n",
    "df_population3"
   ]
  },
  {
   "cell_type": "code",
   "execution_count": 54,
   "metadata": {},
   "outputs": [
    {
     "data": {
      "text/html": [
       "<div>\n",
       "<style scoped>\n",
       "    .dataframe tbody tr th:only-of-type {\n",
       "        vertical-align: middle;\n",
       "    }\n",
       "\n",
       "    .dataframe tbody tr th {\n",
       "        vertical-align: top;\n",
       "    }\n",
       "\n",
       "    .dataframe thead th {\n",
       "        text-align: right;\n",
       "    }\n",
       "</style>\n",
       "<table border=\"1\" class=\"dataframe\">\n",
       "  <thead>\n",
       "    <tr style=\"text-align: right;\">\n",
       "      <th></th>\n",
       "      <th>age</th>\n",
       "      <th>count</th>\n",
       "    </tr>\n",
       "  </thead>\n",
       "  <tbody>\n",
       "    <tr>\n",
       "      <th>0</th>\n",
       "      <td>1.0</td>\n",
       "      <td>1</td>\n",
       "    </tr>\n",
       "    <tr>\n",
       "      <th>1</th>\n",
       "      <td>2.0</td>\n",
       "      <td>2</td>\n",
       "    </tr>\n",
       "    <tr>\n",
       "      <th>2</th>\n",
       "      <td>4.0</td>\n",
       "      <td>2</td>\n",
       "    </tr>\n",
       "    <tr>\n",
       "      <th>3</th>\n",
       "      <td>5.0</td>\n",
       "      <td>1</td>\n",
       "    </tr>\n",
       "    <tr>\n",
       "      <th>4</th>\n",
       "      <td>7.0</td>\n",
       "      <td>1</td>\n",
       "    </tr>\n",
       "    <tr>\n",
       "      <th>...</th>\n",
       "      <td>...</td>\n",
       "      <td>...</td>\n",
       "    </tr>\n",
       "    <tr>\n",
       "      <th>70</th>\n",
       "      <td>73.0</td>\n",
       "      <td>6</td>\n",
       "    </tr>\n",
       "    <tr>\n",
       "      <th>71</th>\n",
       "      <td>74.0</td>\n",
       "      <td>6</td>\n",
       "    </tr>\n",
       "    <tr>\n",
       "      <th>72</th>\n",
       "      <td>75.0</td>\n",
       "      <td>2</td>\n",
       "    </tr>\n",
       "    <tr>\n",
       "      <th>73</th>\n",
       "      <td>76.0</td>\n",
       "      <td>1</td>\n",
       "    </tr>\n",
       "    <tr>\n",
       "      <th>74</th>\n",
       "      <td>77.0</td>\n",
       "      <td>2</td>\n",
       "    </tr>\n",
       "  </tbody>\n",
       "</table>\n",
       "<p>75 rows × 2 columns</p>\n",
       "</div>"
      ],
      "text/plain": [
       "     age  count\n",
       "0    1.0      1\n",
       "1    2.0      2\n",
       "2    4.0      2\n",
       "3    5.0      1\n",
       "4    7.0      1\n",
       "..   ...    ...\n",
       "70  73.0      6\n",
       "71  74.0      6\n",
       "72  75.0      2\n",
       "73  76.0      1\n",
       "74  77.0      2\n",
       "\n",
       "[75 rows x 2 columns]"
      ]
     },
     "execution_count": 54,
     "metadata": {},
     "output_type": "execute_result"
    }
   ],
   "source": [
    "data_p3 = pd.value_counts(df_population3['observation']).to_frame().reset_index()\n",
    "data_p3.columns=['age','count']\n",
    "data_p3=data_p3.sort_values(['age'], ascending=True)\n",
    "data_p3.reset_index(drop=True)"
   ]
  },
  {
   "cell_type": "code",
   "execution_count": 55,
   "metadata": {},
   "outputs": [
    {
     "data": {
      "image/png": "[encoded data removed]",
      "text/plain": [
       "<Figure size 432x288 with 1 Axes>"
      ]
     },
     "metadata": {
      "needs_background": "light"
     },
     "output_type": "display_data"
    }
   ],
   "source": [
    "df_population3['observation'].plot(kind='hist', title='Frequency of ages in a population3 of 1000');"
   ]
  },
  {
   "cell_type": "markdown",
   "metadata": {},
   "source": [
    "#### 2.- Calculate the mean and standard deviation. Compare the results with the plot in step 1. What is happening?"
   ]
  },
  {
   "cell_type": "code",
   "execution_count": 56,
   "metadata": {},
   "outputs": [
    {
     "name": "stdout",
     "output_type": "stream",
     "text": [
      "41989.0\n",
      "1000\n",
      "mean = 41.989\n",
      "standard deviation = 16.14470595986593\n"
     ]
    }
   ],
   "source": [
    "# your code here\n",
    "p_mean3=my_mean(df_population3['observation'].tolist());\n",
    "p_std_dev3=statistics.stdev(df_population3['observation'].tolist())\n",
    "print(f'mean = {p_mean3}')\n",
    "print(f'standard deviation = {p_std_dev3}')"
   ]
  },
  {
   "cell_type": "code",
   "execution_count": null,
   "metadata": {},
   "outputs": [],
   "source": [
    "\"\"\"\n",
    "your comments here\n",
    "\n",
    "The ages range in population1 and population3 are the same, but the distribution are similar with small differences.\n",
    "The mean in population1 is younger than in population3 (27.43 instead of 41.9). So in general the population1 is younger.\n",
    "The standard deviation is lower in population1 than population3. That means the distribution are less concentrated around the mean\n",
    "and the population3 are more scattered.\n",
    "\"\"\""
   ]
  },
  {
   "cell_type": "markdown",
   "metadata": {},
   "source": [
    "#### 3.- Calculate the four quartiles. Use the results to explain your reasoning for question in step 2. How much of a difference is there between the median and the mean?"
   ]
  },
  {
   "cell_type": "code",
   "execution_count": 59,
   "metadata": {},
   "outputs": [
    {
     "name": "stdout",
     "output_type": "stream",
     "text": [
      "Q1=30.0 Q2=40.0 Q3=53.0 Q4=77.0\n"
     ]
    }
   ],
   "source": [
    "# your code here\n",
    "# To calculate quartiles we split the dataset in two half from median already calculated.\n",
    "# The median of full dataset is the quartile 50%.\n",
    "# To calculate quartile 25% we calculate the median of lower half dataset\n",
    "# To calculate quartile 75% we calculate the median of upper half dataset\n",
    "# To calculate quartile 100% is the maximun\n",
    "\n",
    "def my_Quartiles(my_full_list):\n",
    "    #print(my_full_list)\n",
    "    my_Q2=median_1(my_full_list)\n",
    "    #print(my_Q2)\n",
    "    lwr_half_list=[]\n",
    "    upr_half_list=[]\n",
    "    full_dimension=len(my_full_list)\n",
    "    half_dimension=int(full_dimension/2)\n",
    "    for i in range(half_dimension):\n",
    "        if (my_full_list[i]<my_Q2):\n",
    "            lwr_half_list.append(my_full_list[i])\n",
    "    #print(lwr_half_list)\n",
    "    my_Q1=median_1(lwr_half_list)\n",
    "    #print(my_Q1)\n",
    "    for i in range(half_dimension,full_dimension):\n",
    "        if (my_full_list[i]>my_Q2):\n",
    "            upr_half_list.append(my_full_list[i])\n",
    "    #print(upr_half_list)\n",
    "    my_Q3=median_1(upr_half_list)\n",
    "    #print(my_Q3)\n",
    "    my_Q4=my_full_list[full_dimension-1]\n",
    "    return my_Q1, my_Q2, my_Q3, my_Q4\n",
    "\n",
    "p3_list=df_population3['observation'].tolist()\n",
    "p3_list.sort()\n",
    "\n",
    "Q1, Q2, Q3, Q4 = my_Quartiles(p3_list)\n",
    "\n",
    "print(f'Q1={Q1} Q2={Q2} Q3={Q3} Q4={Q4}')\n"
   ]
  },
  {
   "cell_type": "code",
   "execution_count": null,
   "metadata": {},
   "outputs": [],
   "source": [
    "\"\"\"\n",
    "your comments here\n",
    "\n",
    "I can see all quartiles on the right part of the plot. That confirms the age of population3 is older than population1 and \n",
    "\n",
    "\"\"\""
   ]
  },
  {
   "cell_type": "markdown",
   "metadata": {},
   "source": [
    "#### 4.- Calculate other percentiles that might be useful to give more arguments to your reasoning."
   ]
  },
  {
   "cell_type": "code",
   "execution_count": 66,
   "metadata": {},
   "outputs": [
    {
     "name": "stdout",
     "output_type": "stream",
     "text": [
      "5th=17.0 - 10th=22.0 - 20th=28.0 - 30th=32.0 - 40th=36.0 - 50th=40.0 - 60th=45.0 - 70th=50.0 - 80th=57.0 - 90th=67.0 - 95th=70.0\n"
     ]
    }
   ],
   "source": [
    "# your code here\n",
    "\n",
    "# We calculate percentiles\n",
    "\n",
    "Perc_5th=p3_list[49]\n",
    "Perc_10th=p3_list[99]\n",
    "Perc_20th=p3_list[199]\n",
    "Perc_30th=p3_list[299]\n",
    "Perc_40th=p3_list[399]\n",
    "Perc_50th=p3_list[499]\n",
    "Perc_60th=p3_list[599]\n",
    "Perc_70th=p3_list[699]\n",
    "Perc_80th=p3_list[799]\n",
    "Perc_90th=p3_list[899]\n",
    "Perc_95th=p3_list[949]\n",
    "\n",
    "\n",
    "print(f'5th={Perc_5th} - 10th={Perc_10th} - 20th={Perc_20th} - 30th={Perc_30th} - 40th={Perc_40th} - 50th={Perc_50th} - 60th={Perc_60th} - 70th={Perc_70th} - 80th={Perc_80th} - 90th={Perc_90th} - 95th={Perc_95th}')\n"
   ]
  },
  {
   "cell_type": "code",
   "execution_count": null,
   "metadata": {},
   "outputs": [],
   "source": [
    "\"\"\"\n",
    "your comments here\n",
    "\n",
    "If we calculate a collection of percentiles (5th, 10th, 20th, 30th, ... 90th, 95th) we can know the information about spread \n",
    "of population according to the age like outliers.\n",
    "\"\"\""
   ]
  },
  {
   "cell_type": "markdown",
   "metadata": {},
   "source": [
    "## Bonus challenge\n",
    "Compare the information about the three neighbourhoods. Prepare a report about the three of them. Remember to find out which are their similarities and their differences backing your arguments in basic statistics."
   ]
  },
  {
   "cell_type": "code",
   "execution_count": 119,
   "metadata": {},
   "outputs": [
    {
     "name": "stdout",
     "output_type": "stream",
     "text": [
      "Q1=28.0 Q2=37.0 Q3=45.0 Q4=82.0 of Population 1\n",
      "Q1=25.0 Q2=27.0 Q3=29.0 Q4=36.0 of Population 2\n",
      "Q1=30.0 Q2=40.0 Q3=53.0 Q4=77.0 of Population 3\n"
     ]
    },
    {
     "data": {
      "image/png": "[encoded data removed]",
      "text/plain": [
       "<Figure size 792x432 with 1 Axes>"
      ]
     },
     "metadata": {},
     "output_type": "display_data"
    },
    {
     "data": {
      "image/png": "[encoded data removed]",
      "text/plain": [
       "<Figure size 813.6x576 with 1 Axes>"
      ]
     },
     "metadata": {},
     "output_type": "display_data"
    }
   ],
   "source": [
    "# your code here\n",
    "\n",
    "# I calculate the quartiles of Population1, Population2 and Population3\n",
    "\n",
    "p1_list=df_population['observation'].tolist()\n",
    "p1_list.sort()\n",
    "qu1, qu2, qu3, qu4 = my_Quartiles(p1_list)\n",
    "\n",
    "print(f'Q1={qu1} Q2={qu2} Q3={qu3} Q4={qu4} of Population 1')\n",
    "\n",
    "p2_list=df_population2['observation'].tolist()\n",
    "p2_list.sort()\n",
    "q1, q2, q3, q4 = my_Quartiles(p2_list)\n",
    "\n",
    "print(f'Q1={q1} Q2={q2} Q3={q3} Q4={q4} of Population 2')\n",
    "\n",
    "p3_list=df_population3['observation'].tolist()\n",
    "p3_list.sort()\n",
    "\n",
    "Q1, Q2, Q3, Q4 = my_Quartiles(p3_list)\n",
    "\n",
    "print(f'Q1={Q1} Q2={Q2} Q3={Q3} Q4={Q4} of Population 3')\n",
    "\n",
    "# we join in an unique table the three populations\n",
    "\n",
    "df_joined=pd.concat([df_population, df_population2, df_population3], axis=1)\n",
    "df_joined.columns=['population1','population2','population3']\n",
    "\n",
    "# we plot a violin plot\n",
    "\n",
    "sns.set(style=\"whitegrid\")\n",
    "f, ax = plt.subplots(figsize=(11, 6))\n",
    "sns.violinplot(data=df_joined, palette=\"Set3\", bw=.2, cut=1, linewidth=1)\n",
    "ax.set(ylim=(0, 100))\n",
    "sns.despine(left=True, bottom=True)\n",
    "\n",
    "# we plot a box plot\n",
    "\n",
    "ax2=df_joined.plot.box(figsize=(11.3,8))"
   ]
  },
  {
   "cell_type": "code",
   "execution_count": null,
   "metadata": {},
   "outputs": [],
   "source": [
    "\"\"\"\n",
    "your comments here\n",
    "\n",
    "POPULATION 1\n",
    "Age Range = 1-82\n",
    "Total population=1000\n",
    "mean=36,56\n",
    "standard deviation=12,81\n",
    "Q3-Q1=45-28=17\n",
    "\n",
    "POPULATION2\n",
    "Age Range = 19-36\n",
    "Total population=100O\n",
    "mean=27,15\n",
    "standard deviation=2,97\n",
    "Q3-Q1=29-25=4\n",
    "\n",
    "POPULATION3\n",
    "Age Range = 1-77\n",
    "Total population=100O\n",
    "mean=41,98\n",
    "standard deviation=16,14\n",
    "Q3-Q1=30-53=23\n",
    "\n",
    ">> You can compare the distribution of each population in the violin plot. It is very clear the big differences between Population2 and\n",
    "the others.\n",
    "    - It is a young population. Between 20-36. The main population is concentrated around the mean (27,15)\n",
    "    - The others Population are similar with slight difference distribution.\n",
    "    - In Population1 the population are concentrated around the mean (36,56) and they are very spread\n",
    "    - In Population3 the population are concentrated around two points (the mean and the age 68 aprox.)\n",
    "    - There are few outliers in general.\n",
    "    - Population2 = the youngest\n",
    "    - Population1 = a little younger than Population3\n",
    "    - Population3 = the oldest\n",
    "\n",
    "\n",
    "\"\"\""
   ]
  }
 ],
 "metadata": {
  "kernelspec": {
   "display_name": "Python [conda env:ironhack_env]",
   "language": "python",
   "name": "conda-env-ironhack_env-py"
  },
  "language_info": {
   "codemirror_mode": {
    "name": "ipython",
    "version": 3
   },
   "file_extension": ".py",
   "mimetype": "text/x-python",
   "name": "python",
   "nbconvert_exporter": "python",
   "pygments_lexer": "ipython3",
   "version": "3.7.7"
  }
 },
 "nbformat": 4,
 "nbformat_minor": 4
}
