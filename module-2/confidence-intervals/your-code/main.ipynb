{
 "cells": [
  {
   "cell_type": "markdown",
   "metadata": {},
   "source": [
    "# Confidence Intervals"
   ]
  },
  {
   "cell_type": "code",
   "execution_count": 2,
   "metadata": {},
   "outputs": [],
   "source": [
    "# Libraries\n",
    "from scipy import stats\n",
    "import numpy as np\n",
    "import math"
   ]
  },
  {
   "cell_type": "markdown",
   "metadata": {},
   "source": [
    "## Challenge 1\n",
    "We want to estimate the average size of the men of a country with a confidence level of 80%. Assuming that the standard deviation of the sizes in the population is 4, get the confidence interval with a sample of men selected randomly, whose heights are:\n",
    "\n",
    "````\n",
    "heights = [167, 167, 168, 168, 168, 169, 171, 172, 173, 175, 175, 175, 177, 182, 195]\n",
    "````\n",
    "\n",
    "**Hint**: function `stats.norm.interval` from `scipy` can help you get through this exercise. "
   ]
  },
  {
   "cell_type": "code",
   "execution_count": 19,
   "metadata": {},
   "outputs": [
    {
     "name": "stdout",
     "output_type": "stream",
     "text": [
      "mean_x=173.46666666666667\n",
      "std_x=7.107429602574728\n",
      "confidence interval for 80% conficence = (168.34046040448825, 178.59287292884508)\n"
     ]
    }
   ],
   "source": [
    "# your code here\n",
    "heights = [167, 167, 168, 168, 168, 169, 171, 172, 173, 175, 175, 175, 177, 182, 195]\n",
    "mean_x=np.mean(heights)\n",
    "std_x=np.std(heights)\n",
    "\n",
    "print(f'mean_x={mean_x}')\n",
    "print(f'std_x={std_x}')\n",
    "\n",
    "std=4\n",
    "conf_interval_80 = stats.norm.interval(0.8, loc=mean_x, scale=std)\n",
    "\n",
    "print(f'confidence interval for 80% conficence = {conf_interval_80}')"
   ]
  },
  {
   "cell_type": "code",
   "execution_count": 21,
   "metadata": {},
   "outputs": [
    {
     "data": {
      "text/plain": [
       "(171.76786914556482, 175.16546418776852)"
      ]
     },
     "execution_count": 21,
     "metadata": {},
     "output_type": "execute_result"
    }
   ],
   "source": [
    "# Here I calculate handly with following formula, but I get different result\n",
    "n=15\n",
    "sig_level=0.9\n",
    "alpha=1-sig_level\n",
    "alpha_half=alpha/2\n",
    "\n",
    "a = mean_x + stats.norm.ppf(alpha_half)*std/(n**0.5)\n",
    "b = mean_x - stats.norm.ppf(alpha_half)*std/(n**0.5)\n",
    "a , b"
   ]
  },
  {
   "cell_type": "markdown",
   "metadata": {},
   "source": [
    "\\begin{equation*}\n",
    "\\left [  (\\bar{x}   \\pm Z_{\\frac{\\alpha }{2}}\\cdot \\sqrt{\\frac{\\sigma ^{2}}{n}})\\right ]\n",
    "\\end{equation*}"
   ]
  },
  {
   "cell_type": "markdown",
   "metadata": {},
   "source": [
    "## Challenge 2 \n",
    "In a sample of 105 shops selected randomly from an area, we note that 27 of them have had losses in this month. Get an interval for the proportion of businesses in the area with losses to a confidence level of 80% and a confidence level of 90%.\n",
    "\n",
    "**Hint**: function `stats.norm.interval` from `scipy` can help you get through this exercise. "
   ]
  },
  {
   "cell_type": "code",
   "execution_count": 18,
   "metadata": {},
   "outputs": [
    {
     "name": "stdout",
     "output_type": "stream",
     "text": [
      "for 80% of confidence = (0.20248138545542083, 0.3118043288302934)\n",
      "for 90% of confidence = (0.1869856177645281, 0.3273000965211861)\n"
     ]
    }
   ],
   "source": [
    "n=105\n",
    "p=27/105    # Sample proportion\n",
    "s=(p*(1-p)/n)**0.5\n",
    "\n",
    "conf_interval_proportion = stats.norm.interval(0.8, loc=p, scale=s)\n",
    "print(f'for 80% of confidence = {conf_interval_proportion}')\n",
    "\n",
    "conf_interval_proportion = stats.norm.interval(0.9, loc=p, scale=s)\n",
    "print(f'for 90% of confidence = {conf_interval_proportion}')"
   ]
  },
  {
   "cell_type": "code",
   "execution_count": 15,
   "metadata": {},
   "outputs": [
    {
     "name": "stdout",
     "output_type": "stream",
     "text": [
      "0.20248138545542083 0.3118043288302934\n",
      "0.1869856177645281 0.32730009652118613\n"
     ]
    }
   ],
   "source": [
    "import statsmodels.api as sm\n",
    "\n",
    "p=27/105    # Sample proportion\n",
    "\n",
    "# Function for computing confidence intervals\n",
    "\n",
    "from statsmodels.stats.proportion import proportion_confint   \n",
    "\n",
    "ci1_80, ci2_80 = proportion_confint(count=27, nobs=105, alpha=(1-0.8))\n",
    "ci1_90 , ci2_90 = proportion_confint(count=27, nobs=105, alpha=(1-0.9))\n",
    "\n",
    "print( ci1_80 , ci2_80)\n",
    "print( ci1_90 , ci2_90)\n"
   ]
  },
  {
   "cell_type": "code",
   "execution_count": 9,
   "metadata": {},
   "outputs": [
    {
     "name": "stdout",
     "output_type": "stream",
     "text": [
      " interval 80% 0.20248138545542083 , 0.3118043288302934\n",
      " interval 90% 0.18698561776452813 , 0.3273000965211861\n"
     ]
    }
   ],
   "source": [
    "# I also calculate with formula\n",
    "\n",
    "proportion_sample = 27 / 105\n",
    "proportion_fail=1-proportion_sample\n",
    "n=105\n",
    "d=(proportion_sample*proportion_fail/105)**0.5\n",
    "\n",
    "Z_alpha_half=stats.norm.ppf(0.9, loc=0, scale=1)\n",
    "a=proportion_sample+Z_alpha_half*d\n",
    "b=proportion_sample-Z_alpha_half*d\n",
    "print (f' interval 80% {b} , {a}')\n",
    "\n",
    "Z_alpha_half=stats.norm.ppf(0.95, loc=0, scale=1)\n",
    "a=proportion_sample+Z_alpha_half*d\n",
    "b=proportion_sample-Z_alpha_half*d\n",
    "print (f' interval 90% {b} , {a}')\n"
   ]
  },
  {
   "cell_type": "markdown",
   "metadata": {},
   "source": [
    "\\begin{equation*}\n",
    "\\left [  (\\bar{p}   \\pm Z_{\\frac{\\alpha }{2}}\\cdot \\sqrt{\\frac{\\bar{p}\\cdot \\bar{q}}{n}})\\right ]\n",
    "\\end{equation*}"
   ]
  },
  {
   "cell_type": "code",
   "execution_count": null,
   "metadata": {},
   "outputs": [],
   "source": []
  },
  {
   "cell_type": "markdown",
   "metadata": {},
   "source": [
    "## Challenge 3 - More practice\n",
    "For the same example in challenge 1, calculate a confidence interval for the variance at 90% level.\n",
    "\n",
    "**Hint**: function `stats.chi2.interval` from `scipy` can help you get through this exercise. "
   ]
  },
  {
   "cell_type": "code",
   "execution_count": 24,
   "metadata": {},
   "outputs": [
    {
     "data": {
      "text/plain": [
       "(26.28252553515737, 94.7391652193623)"
      ]
     },
     "execution_count": 24,
     "metadata": {},
     "output_type": "execute_result"
    }
   ],
   "source": [
    "# your code here\n",
    "s=np.std(heights)\n",
    "stats.chi2.interval(0.9, df=14, scale=std)\n",
    "#help(stats.chi2.interval)\n",
    "#mean, std, heights"
   ]
  },
  {
   "cell_type": "code",
   "execution_count": 132,
   "metadata": {},
   "outputs": [
    {
     "data": {
      "text/plain": [
       "(29.85957396353499, 107.63315372135806)"
      ]
     },
     "execution_count": 132,
     "metadata": {},
     "output_type": "execute_result"
    }
   ],
   "source": [
    "## I calculate using the formula\n",
    "n=15\n",
    "s=np.std(heights)\n",
    "(n-1)*s**2/stats.chi2.ppf(0.95,df=14) , (n-1)*s**2/stats.chi2.ppf(0.05,df=14)"
   ]
  },
  {
   "cell_type": "markdown",
   "metadata": {},
   "source": [
    "\\begin{equation*}\n",
    "\\frac {\\left ( n-1 \\right )\\cdot s^{2}}{\\chi_{upper\\frac{\\alpha }{2}}^{2}}\n",
    "\\leq \\sigma ^{2}\\leq \n",
    "\\frac {\\left ( n-1 \\right )\\cdot s^{2}}{\\chi_{lower\\frac{\\alpha }{2}}^{2}}\n",
    "\\end{equation*}"
   ]
  },
  {
   "cell_type": "markdown",
   "metadata": {},
   "source": [
    "## Challenge 4 - More practice\n",
    "The sulfuric acid content of 7 similar containers is 9.8, 10.2, 10.4, 9.8, 10.0, 10.2 and 9.6 liters. Calculate a 95% confidence interval for the average content of all containers assuming an approximately normal distribution.\n",
    "\n",
    "```\n",
    "acid = [9.8, 10.2, 10.4, 9.8, 10.0, 10.2, 9.6]\n",
    "```\n",
    "\n",
    "**Hint**: function `stats.t.interval` from `scipy` can help you get through this exercise. "
   ]
  },
  {
   "cell_type": "code",
   "execution_count": 209,
   "metadata": {},
   "outputs": [
    {
     "data": {
      "text/plain": [
       "(9.359248070515873, 10.640751929484127)"
      ]
     },
     "execution_count": 209,
     "metadata": {},
     "output_type": "execute_result"
    }
   ],
   "source": [
    "# your code here\n",
    "acid = [9.8, 10.2, 10.4, 9.8, 10.0, 10.2, 9.6]\n",
    "stats.t.interval(alpha=0.95, df=6, loc=np.mean(acid), scale=np.std(acid))"
   ]
  },
  {
   "cell_type": "code",
   "execution_count": 210,
   "metadata": {},
   "outputs": [
    {
     "data": {
      "text/plain": [
       "(9.757818534642887, 10.242181465357113)"
      ]
     },
     "execution_count": 210,
     "metadata": {},
     "output_type": "execute_result"
    }
   ],
   "source": [
    "# Here I do by hand\n",
    "\n",
    "alpha = 0.05                       # significance level = 5%\n",
    "df = len(acid) - 1                  # degress of freedom \n",
    "t = stats.t.ppf(1-alpha/2, df)   # 95% confidence t-score\n",
    "s = np.std(acid)                  # sample standard deviation\n",
    "n = len(acid)\n",
    "\n",
    "lower = np.mean(acid) - (t * s / np.sqrt(n))\n",
    "upper = np.mean(acid) + (t * s / np.sqrt(n))\n",
    "\n",
    "lower, upper"
   ]
  },
  {
   "cell_type": "markdown",
   "metadata": {},
   "source": [
    "\\begin{equation*}\n",
    "\\left [  (\\bar{x}   \\pm T_{\\frac{\\alpha }{2}}\\cdot \\sqrt{\\frac{s ^{2}}{n}})\\right ]\n",
    "\\end{equation*}"
   ]
  },
  {
   "cell_type": "markdown",
   "metadata": {},
   "source": [
    "## Bonus Challenge\n",
    "The error level or sampling error for the first challenge is given by the following expression:\n",
    "$$Error = z_{\\frac{\\alpha}{2}}\\frac{\\sigma}{\\sqrt n}$$\n",
    "Where z represents the value for N(0,1)\n",
    "\n",
    "\n",
    "Suppose that with the previous data of challenge 1, and with a confidence level of\n",
    "99% (that is, almost certainly) we want to estimate the average population size, so that the error level committed is not greater than half a centimeter.\n",
    "\n",
    "#### 1.- Determine what size the selected sample of men should be."
   ]
  },
  {
   "cell_type": "code",
   "execution_count": 69,
   "metadata": {},
   "outputs": [
    {
     "data": {
      "text/plain": [
       "352.0969942408501"
      ]
     },
     "execution_count": 69,
     "metadata": {},
     "output_type": "execute_result"
    }
   ],
   "source": [
    "# your code here\n",
    "\n",
    "Error=0.5 # centimiters                          # the error\n",
    "Zalpha2=stats.norm.ppf(0.99+0.001/2)             # the probability in the normal distribution\n",
    "Sigma=4                                          # the standard deviation\n",
    "\n",
    "# Now solving the unknown (n) of the equation\n",
    "\n",
    "n=Zalpha2**2*Sigma**2/Error**2\n",
    "n"
   ]
  },
  {
   "cell_type": "markdown",
   "metadata": {},
   "source": [
    "\\begin{equation*}\n",
    "n= Z_{\\frac{\\alpha }{2}}^{2}\\cdot \\frac{\\sigma ^{2}}{Error^{2}}\n",
    "\\end{equation*}"
   ]
  },
  {
   "cell_type": "markdown",
   "metadata": {},
   "source": [
    "#### 2.- For the second challenge, we have the following error:\n",
    "$$ Error = z_{\\frac{\\alpha}{2}}\\sqrt{\\frac{p\\times q}{n}} $$\n",
    "#### Determine the sample size required to not exceed an error of 1% with a confidence of 80%."
   ]
  },
  {
   "cell_type": "code",
   "execution_count": 72,
   "metadata": {},
   "outputs": [
    {
     "data": {
      "text/plain": [
       "3136.1303694727253"
      ]
     },
     "execution_count": 72,
     "metadata": {},
     "output_type": "execute_result"
    }
   ],
   "source": [
    "# your code here\n",
    "\n",
    "p=0.257                                          # success events\n",
    "q=1-p                                            # fail events\n",
    "Error=0.01                                       # error\n",
    "Zalpha2=stats.norm.ppf(0.8+0.2/2)                # the probability in the normal distribution\n",
    "\n",
    "# Now solving the unknown (n) of the equation\n",
    "\n",
    "n=Zalpha2**2*(p*q)/Error**2\n",
    "n"
   ]
  },
  {
   "cell_type": "markdown",
   "metadata": {},
   "source": [
    "\\begin{equation*}\n",
    "n= Z_{\\frac{\\alpha }{2}}^{2}\\cdot \\frac{\\bar{p}\\cdot \\bar{q}}{Error^{2}}\n",
    "\\end{equation*}"
   ]
  },
  {
   "cell_type": "markdown",
   "metadata": {},
   "source": [
    "## Bonus Challenge\n",
    "\n",
    "Let's consider the following problem:\n",
    "\n",
    "Build a confidence interval of 94% for the real difference between the durations of two brands of spotlights, if a sample of 40 spotlights taken randomly from the first mark gave an average duration of 418 hours, and a sample of 50 bulbs of another brand gave a duration average of 402 hours. The standard deviations of the two\n",
    "populations are 26 hours and 22 hours, respectively.\n",
    "\n",
    "Sometimes, we will be interested in the difference of two different groups of random variables. We can also build a confidence interval for that! We have some different cases regarding the variance but for this specific case (the variance are different and known), we have that:\n",
    "\n",
    "$$\\overline{X} - \\overline{Y}  \\sim N(\\mu_{X} - \\mu_{Y} , \\sqrt{\\frac{\\sigma_{X}^2}{n_X}+\\frac{\\sigma_{Y}^2}{n_Y}})$$\n",
    "\n",
    "Solve the problem with this information."
   ]
  },
  {
   "cell_type": "code",
   "execution_count": 187,
   "metadata": {},
   "outputs": [],
   "source": [
    "# your code here\n",
    "conf_level=0.94\n",
    "alpha=1-conf_level\n",
    "alpha_half=alpha/2\n",
    "n1=40\n",
    "x1=418\n",
    "n2=50\n",
    "x2=402\n",
    "sigma1=26\n",
    "sigma2=22"
   ]
  },
  {
   "cell_type": "markdown",
   "metadata": {},
   "source": [
    "\\begin{equation*}\n",
    "I=\\left [\\bar{x_{1}}-\\bar{x_{2}}\\pm Z_{\\frac{\\alpha }{2}}\\cdot \\sqrt{\\frac{\\sigma _{1}^{2}}{n_{1}}+\\frac{\\sigma _{2}^{2}}{n_{2}}} \\right ]\n",
    "\\end{equation*}"
   ]
  },
  {
   "cell_type": "code",
   "execution_count": 190,
   "metadata": {},
   "outputs": [
    {
     "data": {
      "text/plain": [
       "(6.303419026585921, 25.69658097341408)"
      ]
     },
     "execution_count": 190,
     "metadata": {},
     "output_type": "execute_result"
    }
   ],
   "source": [
    "a=x1-x2+stats.norm.ppf(alpha_half)*math.sqrt(sigma1**2/n1+sigma2**2/n2)\n",
    "b=x1-x2-stats.norm.ppf(alpha_half)*math.sqrt(sigma1**2/n1+sigma2**2/n2)\n",
    "a , b"
   ]
  }
 ],
 "metadata": {
  "kernelspec": {
   "display_name": "Python [conda env:ironhack_env]",
   "language": "python",
   "name": "conda-env-ironhack_env-py"
  },
  "language_info": {
   "codemirror_mode": {
    "name": "ipython",
    "version": 3
   },
   "file_extension": ".py",
   "mimetype": "text/x-python",
   "name": "python",
   "nbconvert_exporter": "python",
   "pygments_lexer": "ipython3",
   "version": "3.7.7"
  }
 },
 "nbformat": 4,
 "nbformat_minor": 4
}
